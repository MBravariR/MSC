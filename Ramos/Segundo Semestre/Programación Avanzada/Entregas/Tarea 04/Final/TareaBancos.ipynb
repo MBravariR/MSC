{
  "nbformat": 4,
  "nbformat_minor": 0,
  "metadata": {
    "colab": {
      "provenance": []
    },
    "kernelspec": {
      "name": "python3",
      "display_name": "Python 3"
    },
    "language_info": {
      "name": "python"
    }
  },
  "cells": [
    {
      "cell_type": "code",
      "source": [
        "import warnings\n",
        "warnings.filterwarnings(\"ignore\", category=UserWarning)"
      ],
      "metadata": {
        "id": "ccFK4jRifdff"
      },
      "execution_count": 186,
      "outputs": []
    },
    {
      "cell_type": "markdown",
      "source": [
        "#Ejercicio de Pandas:\n",
        "\n",
        "Usa los dos archivos csv de la carpeta para completar las tareas que aparecen en negrita a continuación, responder sólo en la línea que aparece.\n",
        "\n",
        "**Usar una celda de código**\n",
        "\n",
        "Importar pandas and leer el archivo banklist.csv en una estructura de dataframe llamada bancos."
      ],
      "metadata": {
        "id": "d6uOsXo7Z-uV"
      }
    },
    {
      "cell_type": "code",
      "source": [
        "import pandas as pd\n",
        "bancos = pd.read_csv('/content/banklist.csv')"
      ],
      "metadata": {
        "id": "_9fm6jhiaCmc"
      },
      "execution_count": 187,
      "outputs": []
    },
    {
      "cell_type": "markdown",
      "source": [
        "**Muestre las 10 primeras filas del dataframe**"
      ],
      "metadata": {
        "id": "-RUijg8Yap-7"
      }
    },
    {
      "cell_type": "code",
      "source": [
        "bancos.head(10)"
      ],
      "metadata": {
        "colab": {
          "base_uri": "https://localhost:8080/",
          "height": 359
        },
        "id": "Qu0ILeiaa1Vx",
        "outputId": "c31a7c38-2bcc-48bb-a229-3f1b1a64daec"
      },
      "execution_count": 188,
      "outputs": [
        {
          "output_type": "execute_result",
          "data": {
            "text/plain": [
              "                                           Bank Name                City  ST  \\\n",
              "0                                Fayette County Bank          Saint Elmo  IL   \n",
              "1  Guaranty Bank, (d/b/a BestBank in Georgia & Mi...           Milwaukee  WI   \n",
              "2                                     First NBC Bank         New Orleans  LA   \n",
              "3                                      Proficio Bank  Cottonwood Heights  UT   \n",
              "4                      Seaway Bank and Trust Company             Chicago  IL   \n",
              "5                             Harvest Community Bank          Pennsville  NJ   \n",
              "6                                        Allied Bank            Mulberry  AR   \n",
              "7                       The Woodbury Banking Company            Woodbury  GA   \n",
              "8                             First CornerStone Bank     King of Prussia  PA   \n",
              "9                                 Trust Company Bank             Memphis  TN   \n",
              "\n",
              "    CERT                Acquiring Institution Closing Date Updated Date  \n",
              "0   1802            United Fidelity Bank, fsb    26-May-17     1-Jun-17  \n",
              "1  30003  First-Citizens Bank & Trust Company     5-May-17     1-Jun-17  \n",
              "2  58302                         Whitney Bank    28-Apr-17    23-May-17  \n",
              "3  35495                    Cache Valley Bank     3-Mar-17    18-May-17  \n",
              "4  19328                  State Bank of Texas    27-Jan-17    18-May-17  \n",
              "5  34951  First-Citizens Bank & Trust Company    13-Jan-17    18-May-17  \n",
              "6     91                         Today's Bank    23-Sep-16    17-Nov-16  \n",
              "7  11297                          United Bank    19-Aug-16     1-Jun-17  \n",
              "8  35312  First-Citizens Bank & Trust Company     6-May-16     6-Sep-16  \n",
              "9   9956           The Bank of Fayette County    29-Apr-16     6-Sep-16  "
            ],
            "text/html": [
              "\n",
              "  <div id=\"df-5a1d680d-bec2-49cd-8e98-a55634162650\" class=\"colab-df-container\">\n",
              "    <div>\n",
              "<style scoped>\n",
              "    .dataframe tbody tr th:only-of-type {\n",
              "        vertical-align: middle;\n",
              "    }\n",
              "\n",
              "    .dataframe tbody tr th {\n",
              "        vertical-align: top;\n",
              "    }\n",
              "\n",
              "    .dataframe thead th {\n",
              "        text-align: right;\n",
              "    }\n",
              "</style>\n",
              "<table border=\"1\" class=\"dataframe\">\n",
              "  <thead>\n",
              "    <tr style=\"text-align: right;\">\n",
              "      <th></th>\n",
              "      <th>Bank Name</th>\n",
              "      <th>City</th>\n",
              "      <th>ST</th>\n",
              "      <th>CERT</th>\n",
              "      <th>Acquiring Institution</th>\n",
              "      <th>Closing Date</th>\n",
              "      <th>Updated Date</th>\n",
              "    </tr>\n",
              "  </thead>\n",
              "  <tbody>\n",
              "    <tr>\n",
              "      <th>0</th>\n",
              "      <td>Fayette County Bank</td>\n",
              "      <td>Saint Elmo</td>\n",
              "      <td>IL</td>\n",
              "      <td>1802</td>\n",
              "      <td>United Fidelity Bank, fsb</td>\n",
              "      <td>26-May-17</td>\n",
              "      <td>1-Jun-17</td>\n",
              "    </tr>\n",
              "    <tr>\n",
              "      <th>1</th>\n",
              "      <td>Guaranty Bank, (d/b/a BestBank in Georgia &amp; Mi...</td>\n",
              "      <td>Milwaukee</td>\n",
              "      <td>WI</td>\n",
              "      <td>30003</td>\n",
              "      <td>First-Citizens Bank &amp; Trust Company</td>\n",
              "      <td>5-May-17</td>\n",
              "      <td>1-Jun-17</td>\n",
              "    </tr>\n",
              "    <tr>\n",
              "      <th>2</th>\n",
              "      <td>First NBC Bank</td>\n",
              "      <td>New Orleans</td>\n",
              "      <td>LA</td>\n",
              "      <td>58302</td>\n",
              "      <td>Whitney Bank</td>\n",
              "      <td>28-Apr-17</td>\n",
              "      <td>23-May-17</td>\n",
              "    </tr>\n",
              "    <tr>\n",
              "      <th>3</th>\n",
              "      <td>Proficio Bank</td>\n",
              "      <td>Cottonwood Heights</td>\n",
              "      <td>UT</td>\n",
              "      <td>35495</td>\n",
              "      <td>Cache Valley Bank</td>\n",
              "      <td>3-Mar-17</td>\n",
              "      <td>18-May-17</td>\n",
              "    </tr>\n",
              "    <tr>\n",
              "      <th>4</th>\n",
              "      <td>Seaway Bank and Trust Company</td>\n",
              "      <td>Chicago</td>\n",
              "      <td>IL</td>\n",
              "      <td>19328</td>\n",
              "      <td>State Bank of Texas</td>\n",
              "      <td>27-Jan-17</td>\n",
              "      <td>18-May-17</td>\n",
              "    </tr>\n",
              "    <tr>\n",
              "      <th>5</th>\n",
              "      <td>Harvest Community Bank</td>\n",
              "      <td>Pennsville</td>\n",
              "      <td>NJ</td>\n",
              "      <td>34951</td>\n",
              "      <td>First-Citizens Bank &amp; Trust Company</td>\n",
              "      <td>13-Jan-17</td>\n",
              "      <td>18-May-17</td>\n",
              "    </tr>\n",
              "    <tr>\n",
              "      <th>6</th>\n",
              "      <td>Allied Bank</td>\n",
              "      <td>Mulberry</td>\n",
              "      <td>AR</td>\n",
              "      <td>91</td>\n",
              "      <td>Today's Bank</td>\n",
              "      <td>23-Sep-16</td>\n",
              "      <td>17-Nov-16</td>\n",
              "    </tr>\n",
              "    <tr>\n",
              "      <th>7</th>\n",
              "      <td>The Woodbury Banking Company</td>\n",
              "      <td>Woodbury</td>\n",
              "      <td>GA</td>\n",
              "      <td>11297</td>\n",
              "      <td>United Bank</td>\n",
              "      <td>19-Aug-16</td>\n",
              "      <td>1-Jun-17</td>\n",
              "    </tr>\n",
              "    <tr>\n",
              "      <th>8</th>\n",
              "      <td>First CornerStone Bank</td>\n",
              "      <td>King of Prussia</td>\n",
              "      <td>PA</td>\n",
              "      <td>35312</td>\n",
              "      <td>First-Citizens Bank &amp; Trust Company</td>\n",
              "      <td>6-May-16</td>\n",
              "      <td>6-Sep-16</td>\n",
              "    </tr>\n",
              "    <tr>\n",
              "      <th>9</th>\n",
              "      <td>Trust Company Bank</td>\n",
              "      <td>Memphis</td>\n",
              "      <td>TN</td>\n",
              "      <td>9956</td>\n",
              "      <td>The Bank of Fayette County</td>\n",
              "      <td>29-Apr-16</td>\n",
              "      <td>6-Sep-16</td>\n",
              "    </tr>\n",
              "  </tbody>\n",
              "</table>\n",
              "</div>\n",
              "    <div class=\"colab-df-buttons\">\n",
              "\n",
              "  <div class=\"colab-df-container\">\n",
              "    <button class=\"colab-df-convert\" onclick=\"convertToInteractive('df-5a1d680d-bec2-49cd-8e98-a55634162650')\"\n",
              "            title=\"Convert this dataframe to an interactive table.\"\n",
              "            style=\"display:none;\">\n",
              "\n",
              "  <svg xmlns=\"http://www.w3.org/2000/svg\" height=\"24px\" viewBox=\"0 -960 960 960\">\n",
              "    <path d=\"M120-120v-720h720v720H120Zm60-500h600v-160H180v160Zm220 220h160v-160H400v160Zm0 220h160v-160H400v160ZM180-400h160v-160H180v160Zm440 0h160v-160H620v160ZM180-180h160v-160H180v160Zm440 0h160v-160H620v160Z\"/>\n",
              "  </svg>\n",
              "    </button>\n",
              "\n",
              "  <style>\n",
              "    .colab-df-container {\n",
              "      display:flex;\n",
              "      gap: 12px;\n",
              "    }\n",
              "\n",
              "    .colab-df-convert {\n",
              "      background-color: #E8F0FE;\n",
              "      border: none;\n",
              "      border-radius: 50%;\n",
              "      cursor: pointer;\n",
              "      display: none;\n",
              "      fill: #1967D2;\n",
              "      height: 32px;\n",
              "      padding: 0 0 0 0;\n",
              "      width: 32px;\n",
              "    }\n",
              "\n",
              "    .colab-df-convert:hover {\n",
              "      background-color: #E2EBFA;\n",
              "      box-shadow: 0px 1px 2px rgba(60, 64, 67, 0.3), 0px 1px 3px 1px rgba(60, 64, 67, 0.15);\n",
              "      fill: #174EA6;\n",
              "    }\n",
              "\n",
              "    .colab-df-buttons div {\n",
              "      margin-bottom: 4px;\n",
              "    }\n",
              "\n",
              "    [theme=dark] .colab-df-convert {\n",
              "      background-color: #3B4455;\n",
              "      fill: #D2E3FC;\n",
              "    }\n",
              "\n",
              "    [theme=dark] .colab-df-convert:hover {\n",
              "      background-color: #434B5C;\n",
              "      box-shadow: 0px 1px 3px 1px rgba(0, 0, 0, 0.15);\n",
              "      filter: drop-shadow(0px 1px 2px rgba(0, 0, 0, 0.3));\n",
              "      fill: #FFFFFF;\n",
              "    }\n",
              "  </style>\n",
              "\n",
              "    <script>\n",
              "      const buttonEl =\n",
              "        document.querySelector('#df-5a1d680d-bec2-49cd-8e98-a55634162650 button.colab-df-convert');\n",
              "      buttonEl.style.display =\n",
              "        google.colab.kernel.accessAllowed ? 'block' : 'none';\n",
              "\n",
              "      async function convertToInteractive(key) {\n",
              "        const element = document.querySelector('#df-5a1d680d-bec2-49cd-8e98-a55634162650');\n",
              "        const dataTable =\n",
              "          await google.colab.kernel.invokeFunction('convertToInteractive',\n",
              "                                                    [key], {});\n",
              "        if (!dataTable) return;\n",
              "\n",
              "        const docLinkHtml = 'Like what you see? Visit the ' +\n",
              "          '<a target=\"_blank\" href=https://colab.research.google.com/notebooks/data_table.ipynb>data table notebook</a>'\n",
              "          + ' to learn more about interactive tables.';\n",
              "        element.innerHTML = '';\n",
              "        dataTable['output_type'] = 'display_data';\n",
              "        await google.colab.output.renderOutput(dataTable, element);\n",
              "        const docLink = document.createElement('div');\n",
              "        docLink.innerHTML = docLinkHtml;\n",
              "        element.appendChild(docLink);\n",
              "      }\n",
              "    </script>\n",
              "  </div>\n",
              "\n",
              "\n",
              "<div id=\"df-d112579b-2c55-411f-9491-9a0705c02819\">\n",
              "  <button class=\"colab-df-quickchart\" onclick=\"quickchart('df-d112579b-2c55-411f-9491-9a0705c02819')\"\n",
              "            title=\"Suggest charts\"\n",
              "            style=\"display:none;\">\n",
              "\n",
              "<svg xmlns=\"http://www.w3.org/2000/svg\" height=\"24px\"viewBox=\"0 0 24 24\"\n",
              "     width=\"24px\">\n",
              "    <g>\n",
              "        <path d=\"M19 3H5c-1.1 0-2 .9-2 2v14c0 1.1.9 2 2 2h14c1.1 0 2-.9 2-2V5c0-1.1-.9-2-2-2zM9 17H7v-7h2v7zm4 0h-2V7h2v10zm4 0h-2v-4h2v4z\"/>\n",
              "    </g>\n",
              "</svg>\n",
              "  </button>\n",
              "\n",
              "<style>\n",
              "  .colab-df-quickchart {\n",
              "      --bg-color: #E8F0FE;\n",
              "      --fill-color: #1967D2;\n",
              "      --hover-bg-color: #E2EBFA;\n",
              "      --hover-fill-color: #174EA6;\n",
              "      --disabled-fill-color: #AAA;\n",
              "      --disabled-bg-color: #DDD;\n",
              "  }\n",
              "\n",
              "  [theme=dark] .colab-df-quickchart {\n",
              "      --bg-color: #3B4455;\n",
              "      --fill-color: #D2E3FC;\n",
              "      --hover-bg-color: #434B5C;\n",
              "      --hover-fill-color: #FFFFFF;\n",
              "      --disabled-bg-color: #3B4455;\n",
              "      --disabled-fill-color: #666;\n",
              "  }\n",
              "\n",
              "  .colab-df-quickchart {\n",
              "    background-color: var(--bg-color);\n",
              "    border: none;\n",
              "    border-radius: 50%;\n",
              "    cursor: pointer;\n",
              "    display: none;\n",
              "    fill: var(--fill-color);\n",
              "    height: 32px;\n",
              "    padding: 0;\n",
              "    width: 32px;\n",
              "  }\n",
              "\n",
              "  .colab-df-quickchart:hover {\n",
              "    background-color: var(--hover-bg-color);\n",
              "    box-shadow: 0 1px 2px rgba(60, 64, 67, 0.3), 0 1px 3px 1px rgba(60, 64, 67, 0.15);\n",
              "    fill: var(--button-hover-fill-color);\n",
              "  }\n",
              "\n",
              "  .colab-df-quickchart-complete:disabled,\n",
              "  .colab-df-quickchart-complete:disabled:hover {\n",
              "    background-color: var(--disabled-bg-color);\n",
              "    fill: var(--disabled-fill-color);\n",
              "    box-shadow: none;\n",
              "  }\n",
              "\n",
              "  .colab-df-spinner {\n",
              "    border: 2px solid var(--fill-color);\n",
              "    border-color: transparent;\n",
              "    border-bottom-color: var(--fill-color);\n",
              "    animation:\n",
              "      spin 1s steps(1) infinite;\n",
              "  }\n",
              "\n",
              "  @keyframes spin {\n",
              "    0% {\n",
              "      border-color: transparent;\n",
              "      border-bottom-color: var(--fill-color);\n",
              "      border-left-color: var(--fill-color);\n",
              "    }\n",
              "    20% {\n",
              "      border-color: transparent;\n",
              "      border-left-color: var(--fill-color);\n",
              "      border-top-color: var(--fill-color);\n",
              "    }\n",
              "    30% {\n",
              "      border-color: transparent;\n",
              "      border-left-color: var(--fill-color);\n",
              "      border-top-color: var(--fill-color);\n",
              "      border-right-color: var(--fill-color);\n",
              "    }\n",
              "    40% {\n",
              "      border-color: transparent;\n",
              "      border-right-color: var(--fill-color);\n",
              "      border-top-color: var(--fill-color);\n",
              "    }\n",
              "    60% {\n",
              "      border-color: transparent;\n",
              "      border-right-color: var(--fill-color);\n",
              "    }\n",
              "    80% {\n",
              "      border-color: transparent;\n",
              "      border-right-color: var(--fill-color);\n",
              "      border-bottom-color: var(--fill-color);\n",
              "    }\n",
              "    90% {\n",
              "      border-color: transparent;\n",
              "      border-bottom-color: var(--fill-color);\n",
              "    }\n",
              "  }\n",
              "</style>\n",
              "\n",
              "  <script>\n",
              "    async function quickchart(key) {\n",
              "      const quickchartButtonEl =\n",
              "        document.querySelector('#' + key + ' button');\n",
              "      quickchartButtonEl.disabled = true;  // To prevent multiple clicks.\n",
              "      quickchartButtonEl.classList.add('colab-df-spinner');\n",
              "      try {\n",
              "        const charts = await google.colab.kernel.invokeFunction(\n",
              "            'suggestCharts', [key], {});\n",
              "      } catch (error) {\n",
              "        console.error('Error during call to suggestCharts:', error);\n",
              "      }\n",
              "      quickchartButtonEl.classList.remove('colab-df-spinner');\n",
              "      quickchartButtonEl.classList.add('colab-df-quickchart-complete');\n",
              "    }\n",
              "    (() => {\n",
              "      let quickchartButtonEl =\n",
              "        document.querySelector('#df-d112579b-2c55-411f-9491-9a0705c02819 button');\n",
              "      quickchartButtonEl.style.display =\n",
              "        google.colab.kernel.accessAllowed ? 'block' : 'none';\n",
              "    })();\n",
              "  </script>\n",
              "</div>\n",
              "\n",
              "    </div>\n",
              "  </div>\n"
            ],
            "application/vnd.google.colaboratory.intrinsic+json": {
              "type": "dataframe",
              "variable_name": "bancos",
              "summary": "{\n  \"name\": \"bancos\",\n  \"rows\": 551,\n  \"fields\": [\n    {\n      \"column\": \"Bank Name\",\n      \"properties\": {\n        \"dtype\": \"string\",\n        \"num_unique_values\": 535,\n        \"samples\": [\n          \"All American Bank\",\n          \"CreekSide Bank\",\n          \"Mountain Heritage Bank\"\n        ],\n        \"semantic_type\": \"\",\n        \"description\": \"\"\n      }\n    },\n    {\n      \"column\": \"City\",\n      \"properties\": {\n        \"dtype\": \"string\",\n        \"num_unique_values\": 424,\n        \"samples\": [\n          \"Cocoa Beach\",\n          \"Germantown\",\n          \"McDonough\"\n        ],\n        \"semantic_type\": \"\",\n        \"description\": \"\"\n      }\n    },\n    {\n      \"column\": \"ST\",\n      \"properties\": {\n        \"dtype\": \"category\",\n        \"num_unique_values\": 44,\n        \"samples\": [\n          \"NY\",\n          \"NV\",\n          \"NC\"\n        ],\n        \"semantic_type\": \"\",\n        \"description\": \"\"\n      }\n    },\n    {\n      \"column\": \"CERT\",\n      \"properties\": {\n        \"dtype\": \"number\",\n        \"std\": 16449,\n        \"min\": 91,\n        \"max\": 58701,\n        \"num_unique_values\": 551,\n        \"samples\": [\n          32646,\n          1690,\n          4744\n        ],\n        \"semantic_type\": \"\",\n        \"description\": \"\"\n      }\n    },\n    {\n      \"column\": \"Acquiring Institution\",\n      \"properties\": {\n        \"dtype\": \"string\",\n        \"num_unique_values\": 286,\n        \"samples\": [\n          \"Fidelity Bank\",\n          \"The Citizens Banking Company\",\n          \"Grandpoint Bank\"\n        ],\n        \"semantic_type\": \"\",\n        \"description\": \"\"\n      }\n    },\n    {\n      \"column\": \"Closing Date\",\n      \"properties\": {\n        \"dtype\": \"object\",\n        \"num_unique_values\": 247,\n        \"samples\": [\n          \"17-Jan-14\",\n          \"23-Sep-16\",\n          \"10-Jul-09\"\n        ],\n        \"semantic_type\": \"\",\n        \"description\": \"\"\n      }\n    },\n    {\n      \"column\": \"Updated Date\",\n      \"properties\": {\n        \"dtype\": \"object\",\n        \"num_unique_values\": 123,\n        \"samples\": [\n          \"25-Mar-16\",\n          \"22-Oct-13\",\n          \"17-Dec-12\"\n        ],\n        \"semantic_type\": \"\",\n        \"description\": \"\"\n      }\n    }\n  ]\n}"
            }
          },
          "metadata": {},
          "execution_count": 188
        }
      ]
    },
    {
      "cell_type": "markdown",
      "source": [
        "**Imprima el nombre de las columnas**"
      ],
      "metadata": {
        "id": "kTwESplsbT4d"
      }
    },
    {
      "cell_type": "code",
      "source": [
        "# Imprimir los nombres de las columnas de bancos\n",
        "print(bancos.columns.tolist())"
      ],
      "metadata": {
        "colab": {
          "base_uri": "https://localhost:8080/"
        },
        "id": "3ezunJS4bWw6",
        "outputId": "8d91d09a-f87a-474a-fd75-ded9fe1e2620"
      },
      "execution_count": 189,
      "outputs": [
        {
          "output_type": "stream",
          "name": "stdout",
          "text": [
            "['Bank Name', 'City', 'ST', 'CERT', 'Acquiring Institution', 'Closing Date', 'Updated Date']\n"
          ]
        }
      ]
    },
    {
      "cell_type": "markdown",
      "source": [
        "**Obtener una lista o matriz de todos los estados en el conjunto de datos, sin repetición, ordenados de la A a la Z**"
      ],
      "metadata": {
        "id": "yl03Uz9CbXRU"
      }
    },
    {
      "cell_type": "code",
      "source": [
        "# Obtener la lista de estados únicos, ordenados alfabéticamente\n",
        "estados = sorted(bancos['ST'].unique())\n",
        "\n",
        "# Mostrar todos los estados en el conjunto de datos\n",
        "print(estados)"
      ],
      "metadata": {
        "id": "Jg7SyLesbnVV",
        "colab": {
          "base_uri": "https://localhost:8080/"
        },
        "outputId": "20803b5a-1ea0-4609-9cb7-1f3aea6a8c25"
      },
      "execution_count": 190,
      "outputs": [
        {
          "output_type": "stream",
          "name": "stdout",
          "text": [
            "['AL', 'AR', 'AZ', 'CA', 'CO', 'CT', 'FL', 'GA', 'HI', 'IA', 'ID', 'IL', 'IN', 'KS', 'KY', 'LA', 'MA', 'MD', 'MI', 'MN', 'MO', 'MS', 'NC', 'NE', 'NH', 'NJ', 'NM', 'NV', 'NY', 'OH', 'OK', 'OR', 'PA', 'PR', 'SC', 'SD', 'TN', 'TX', 'UT', 'VA', 'WA', 'WI', 'WV', 'WY']\n"
          ]
        }
      ]
    },
    {
      "cell_type": "markdown",
      "source": [
        "**¿Cuáles son los 5 estados con más bancos fallidos?**"
      ],
      "metadata": {
        "id": "WcVTT2Pcbw-N"
      }
    },
    {
      "cell_type": "code",
      "source": [
        "# Contar la cantidad de bancos fallidos por estado y ordenar en orden descendente\n",
        "estados_mas = bancos['ST'].value_counts().head(5)\n",
        "\n",
        "# Mostrar los 5 estados con más bancos fallidos\n",
        "print(estados_mas)"
      ],
      "metadata": {
        "id": "Wzm9QLtab_s5",
        "colab": {
          "base_uri": "https://localhost:8080/"
        },
        "outputId": "ee0e5586-70b0-4de0-d2a4-a01ef46f6c83"
      },
      "execution_count": 191,
      "outputs": [
        {
          "output_type": "stream",
          "name": "stdout",
          "text": [
            "ST\n",
            "GA    93\n",
            "FL    75\n",
            "IL    67\n",
            "CA    41\n",
            "MN    23\n",
            "Name: count, dtype: int64\n"
          ]
        }
      ]
    },
    {
      "cell_type": "markdown",
      "source": [
        "**¿Cuáles son las 5 principales instituciones adquirentes?**"
      ],
      "metadata": {
        "id": "4Idrpp5kcAjY"
      }
    },
    {
      "cell_type": "code",
      "source": [
        "# Contar la cantidad de adquisiciones por cada institución y ordenar en orden descendente\n",
        "adquirentes5 = bancos['Acquiring Institution'].value_counts().head(6).tail(5) # La primera es sin adquirientes, por lo que se quita\n",
        "\n",
        "# Mostrar las 5 principales instituciones adquirentes\n",
        "print(adquirentes5)"
      ],
      "metadata": {
        "id": "2CzLdE9rcwVa",
        "colab": {
          "base_uri": "https://localhost:8080/"
        },
        "outputId": "fa2917cf-f80e-4fa2-c349-9482a6cda3cc"
      },
      "execution_count": 192,
      "outputs": [
        {
          "output_type": "stream",
          "name": "stdout",
          "text": [
            "Acquiring Institution\n",
            "State Bank and Trust Company           12\n",
            "First-Citizens Bank & Trust Company    11\n",
            "Ameris Bank                            10\n",
            "U.S. Bank N.A.                          9\n",
            "Community & Southern Bank               8\n",
            "Name: count, dtype: int64\n"
          ]
        }
      ]
    },
    {
      "cell_type": "markdown",
      "source": [
        "**¿Cuántos bancos ha adquirido el State Bank of Texas? ¿Cuántos de ellos estaban realmente en Texas?**"
      ],
      "metadata": {
        "id": "01iyxOPmcw_x"
      }
    },
    {
      "cell_type": "code",
      "source": [
        "# Filtrar los bancos adquiridos por el 'State Bank of Texas'\n",
        "adquiridos_sbt = bancos[bancos['Acquiring Institution'] == 'State Bank of Texas']\n",
        "\n",
        "# Contar el número total de adquisiciones\n",
        "total = adquiridos_sbt.shape[0]\n",
        "\n",
        "# Filtrar por aquellos que estaban en el estado de Texas\n",
        "en_texas = adquiridos_sbt[adquiridos_sbt['ST'] == 'TX'].shape[0]\n",
        "\n",
        "# Mostrar los resultados\n",
        "print(f\"Total de bancos adquiridos por el State Bank of Texas: {total}\")\n",
        "print(f\"Bancos adquiridos que estaban en Texas: {en_texas}\")"
      ],
      "metadata": {
        "id": "XU7xRbpmc0px",
        "colab": {
          "base_uri": "https://localhost:8080/"
        },
        "outputId": "09648754-21bb-4ba3-8cb7-4e6714cc089f"
      },
      "execution_count": 193,
      "outputs": [
        {
          "output_type": "stream",
          "name": "stdout",
          "text": [
            "Total de bancos adquiridos por el State Bank of Texas: 3\n",
            "Bancos adquiridos que estaban en Texas: 1\n"
          ]
        }
      ]
    },
    {
      "cell_type": "markdown",
      "source": [
        "**¿Cuál es la ciudad más común en California donde un banco quiebra?**"
      ],
      "metadata": {
        "id": "CvRLH07xc1ia"
      }
    },
    {
      "cell_type": "code",
      "source": [
        "# Filtrar los bancos que están en California (estado 'CA')\n",
        "bancos_california = bancos[bancos['ST'] == 'CA']\n",
        "\n",
        "# Encontrar la ciudad más común y cuántos bancos han quebrado allí\n",
        "ciudad_mas_comun = bancos_california['City'].value_counts().idxmax()\n",
        "cantidad_en_ciudad = bancos_california['City'].value_counts().max()\n",
        "\n",
        "# Mostrar la ciudad más común y la cantidad de bancos que han quebrado allí\n",
        "print(f\"La ciudad más común en California donde un banco quiebra es: {ciudad_mas_comun}\")\n",
        "print(f\"Número de bancos que han quebrado en {ciudad_mas_comun}: {cantidad_en_ciudad}\")"
      ],
      "metadata": {
        "id": "Db5DbIEodP4k",
        "colab": {
          "base_uri": "https://localhost:8080/"
        },
        "outputId": "055b8ddf-954d-4cdb-ad58-0defada6dc51"
      },
      "execution_count": 194,
      "outputs": [
        {
          "output_type": "stream",
          "name": "stdout",
          "text": [
            "La ciudad más común en California donde un banco quiebra es: Los Angeles\n",
            "Número de bancos que han quebrado en Los Angeles: 4\n"
          ]
        }
      ]
    },
    {
      "cell_type": "markdown",
      "source": [
        "**¿Cuántos nombres de bancos comienzan con la letra 's'?**"
      ],
      "metadata": {
        "id": "fkPaa2e9dSpZ"
      }
    },
    {
      "cell_type": "code",
      "source": [
        "# Filtrar los nombres de bancos que comienzan con la letra 'S'\n",
        "bancos_con_s = bancos[bancos['Bank Name'].str.startswith('S')]\n",
        "\n",
        "# Contar cuántos bancos comienzan con la letra 'S'\n",
        "cantidad_bancos_con_s = bancos_con_s.shape[0]\n",
        "\n",
        "# Mostrar el resultado\n",
        "print(f\"El número de bancos cuyos nombres comienzan con la letra 'S' es: {cantidad_bancos_con_s}\")"
      ],
      "metadata": {
        "id": "c2wHcNqxdcSW",
        "colab": {
          "base_uri": "https://localhost:8080/"
        },
        "outputId": "8dbb9dc1-a127-42ca-d334-1da773f0a0b0"
      },
      "execution_count": 195,
      "outputs": [
        {
          "output_type": "stream",
          "name": "stdout",
          "text": [
            "El número de bancos cuyos nombres comienzan con la letra 'S' es: 53\n"
          ]
        }
      ]
    },
    {
      "cell_type": "markdown",
      "source": [
        "**¿Cuántos bancos consisten en dos palabras? Ej. \"First Bank\" , \"Bank Georgia\"**"
      ],
      "metadata": {
        "id": "HJ21qfU2dc4l"
      }
    },
    {
      "cell_type": "code",
      "source": [
        "# Contar cuántos bancos tienen nombres que consisten en dos palabras\n",
        "bancos_dos_palabras = bancos['Bank Name'].str.split().apply(len) == 2\n",
        "\n",
        "# Contar el número de bancos que cumplen con la condición\n",
        "cantidad = bancos_dos_palabras.sum()\n",
        "\n",
        "# Mostrar el resultado\n",
        "print(f\"El número de bancos cuyos nombres consisten en dos palabras es: {cantidad}\")"
      ],
      "metadata": {
        "id": "Ym98Ugogdq5J",
        "colab": {
          "base_uri": "https://localhost:8080/"
        },
        "outputId": "3181e6e8-5ba3-4ea6-e78e-838af68e8afe"
      },
      "execution_count": 196,
      "outputs": [
        {
          "output_type": "stream",
          "name": "stdout",
          "text": [
            "El número de bancos cuyos nombres consisten en dos palabras es: 114\n"
          ]
        }
      ]
    },
    {
      "cell_type": "markdown",
      "source": [
        "**¿Cuántos bancos quebrados no tienen la palabra \"Banco\" en su nombre?**"
      ],
      "metadata": {
        "id": "_F_OnNUFeEK9"
      }
    },
    {
      "cell_type": "code",
      "source": [
        "# Filtrar los bancos cuyos nombres no contienen la palabra 'Banco'\n",
        "bancos_sin_banco = bancos[~bancos['Bank Name'].str.contains('Banco', case=False)]\n",
        "\n",
        "# Cual es el que tiene 'Banco' en su nombre\n",
        "bancos_con_banco = bancos[bancos['Bank Name'].str.contains('Banco', case=False)]\n",
        "bancos_con_banco = bancos_con_banco['Bank Name'].str.cat(sep=', ')\n",
        "\n",
        "# Contar el número de bancos que no tienen la palabra 'Banco' en su nombre\n",
        "cantidad_sin_banco = bancos_sin_banco.shape[0]\n",
        "\n",
        "# Mostrar el resultado\n",
        "print(f\"El número de bancos quebrados que no tienen la palabra 'Banco' en su nombre es: {cantidad_sin_banco}\")\n",
        "\n",
        "# Mostrar el nombre del que si tiene 'Banco'\n",
        "print(f\"El nombre del que si tiene 'Banco' en su nombre es: {bancos_con_banco}\")"
      ],
      "metadata": {
        "id": "Oc-w9zSYd4Dx",
        "colab": {
          "base_uri": "https://localhost:8080/"
        },
        "outputId": "42d6b4b5-8044-466d-af15-93552b663d1a"
      },
      "execution_count": 197,
      "outputs": [
        {
          "output_type": "stream",
          "name": "stdout",
          "text": [
            "El número de bancos quebrados que no tienen la palabra 'Banco' en su nombre es: 550\n",
            "El nombre del que si tiene 'Banco' en su nombre es: CF Bancorp\n"
          ]
        }
      ]
    },
    {
      "cell_type": "markdown",
      "source": [
        "**¿Cuántos bancos cerraron en el año 2008?**"
      ],
      "metadata": {
        "id": "Wj7BtvY3ducV"
      }
    },
    {
      "cell_type": "code",
      "source": [
        "# Convertir la columna 'Closing Date' a formato datetime\n",
        "bancos['Closing Date'] = pd.to_datetime(bancos['Closing Date'])\n",
        "\n",
        "# Filtrar los bancos que cerraron en el año 2008\n",
        "bancos_2008 = bancos[bancos['Closing Date'].dt.year == 2008]\n",
        "\n",
        "# Contar el número de bancos que cerraron en 2008\n",
        "cantidad_2008 = bancos_2008.shape[0]\n",
        "\n",
        "# Mostrar el resultado\n",
        "print(f\"El número de bancos que cerraron en 2008 es: {cantidad_2008}\")\n"
      ],
      "metadata": {
        "colab": {
          "base_uri": "https://localhost:8080/"
        },
        "id": "i00S1HynAn6C",
        "outputId": "96046bdf-3b9c-4e03-e841-b7cd1c99b716"
      },
      "execution_count": 198,
      "outputs": [
        {
          "output_type": "stream",
          "name": "stdout",
          "text": [
            "El número de bancos que cerraron en 2008 es: 25\n"
          ]
        }
      ]
    }
  ]
}