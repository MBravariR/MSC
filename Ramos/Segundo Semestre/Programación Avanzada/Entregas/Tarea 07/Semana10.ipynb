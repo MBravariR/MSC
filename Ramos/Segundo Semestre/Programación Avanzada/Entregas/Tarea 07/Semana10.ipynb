{
 "cells": [
  {
   "cell_type": "markdown",
   "id": "4e45fd8d",
   "metadata": {},
   "source": [
    "$$-\\Delta u =f$$\n",
    "\n"
   ]
  },
  {
   "metadata": {
    "ExecuteTime": {
     "end_time": "2024-11-11T19:59:16.634882Z",
     "start_time": "2024-11-11T19:59:16.604358Z"
    }
   },
   "cell_type": "code",
   "source": "from petsc4py import PETSc",
   "id": "d0b796db73a75d92",
   "outputs": [
    {
     "ename": "ImportError",
     "evalue": "dlopen(/opt/anaconda3/lib/python3.12/site-packages/petsc4py/lib/PETSc.cpython-312-darwin.so, 0x0002): Library not loaded: @rpath/liblapack.3.dylib\n  Referenced from: <76FAFCCD-D660-32D5-8C7D-C7163B299263> /opt/anaconda3/lib/libpetsc.3.21.5.dylib\n  Reason: tried: '/opt/anaconda3/lib/liblapack.3.dylib' (no such file), '/opt/anaconda3/lib/python3.12/site-packages/petsc4py/lib/../../../../liblapack.3.dylib' (no such file), '/opt/anaconda3/lib/python3.12/site-packages/petsc4py/lib/../../../../liblapack.3.dylib' (no such file), '/opt/anaconda3/bin/../lib/liblapack.3.dylib' (no such file), '/opt/anaconda3/bin/../lib/liblapack.3.dylib' (no such file), '/usr/local/lib/liblapack.3.dylib' (no such file), '/usr/lib/liblapack.3.dylib' (no such file, not in dyld cache)",
     "output_type": "error",
     "traceback": [
      "\u001B[0;31m---------------------------------------------------------------------------\u001B[0m",
      "\u001B[0;31mImportError\u001B[0m                               Traceback (most recent call last)",
      "Cell \u001B[0;32mIn[15], line 1\u001B[0m\n\u001B[0;32m----> 1\u001B[0m \u001B[38;5;28;01mfrom\u001B[39;00m \u001B[38;5;21;01mpetsc4py\u001B[39;00m \u001B[38;5;28;01mimport\u001B[39;00m PETSc\n",
      "File \u001B[0;32m/opt/anaconda3/lib/python3.12/site-packages/petsc4py/PETSc.py:4\u001B[0m\n\u001B[1;32m      1\u001B[0m ARCH \u001B[38;5;241m=\u001B[39m \u001B[38;5;28;01mNone\u001B[39;00m\n\u001B[1;32m      2\u001B[0m \u001B[38;5;28;01mfrom\u001B[39;00m \u001B[38;5;21;01mpetsc4py\u001B[39;00m\u001B[38;5;21;01m.\u001B[39;00m\u001B[38;5;21;01mlib\u001B[39;00m \u001B[38;5;28;01mimport\u001B[39;00m ImportPETSc  \u001B[38;5;66;03m# noqa: E402\u001B[39;00m\n\u001B[0;32m----> 4\u001B[0m PETSc \u001B[38;5;241m=\u001B[39m ImportPETSc(ARCH)\n\u001B[1;32m      5\u001B[0m PETSc\u001B[38;5;241m.\u001B[39m_initialize()\n\u001B[1;32m      6\u001B[0m \u001B[38;5;28;01mdel\u001B[39;00m PETSc\n",
      "File \u001B[0;32m/opt/anaconda3/lib/python3.12/site-packages/petsc4py/lib/__init__.py:30\u001B[0m, in \u001B[0;36mImportPETSc\u001B[0;34m(arch)\u001B[0m\n\u001B[1;32m     26\u001B[0m \u001B[38;5;250m\u001B[39m\u001B[38;5;124;03m\"\"\"\u001B[39;00m\n\u001B[1;32m     27\u001B[0m \u001B[38;5;124;03mImport the PETSc extension module for a given configuration name.\u001B[39;00m\n\u001B[1;32m     28\u001B[0m \u001B[38;5;124;03m\"\"\"\u001B[39;00m\n\u001B[1;32m     29\u001B[0m path, arch \u001B[38;5;241m=\u001B[39m getPathArchPETSc(arch)\n\u001B[0;32m---> 30\u001B[0m \u001B[38;5;28;01mreturn\u001B[39;00m Import(\u001B[38;5;124m'\u001B[39m\u001B[38;5;124mpetsc4py\u001B[39m\u001B[38;5;124m'\u001B[39m, \u001B[38;5;124m'\u001B[39m\u001B[38;5;124mPETSc\u001B[39m\u001B[38;5;124m'\u001B[39m, path, arch)\n",
      "File \u001B[0;32m/opt/anaconda3/lib/python3.12/site-packages/petsc4py/lib/__init__.py:97\u001B[0m, in \u001B[0;36mImport\u001B[0;34m(pkg, name, path, arch)\u001B[0m\n\u001B[1;32m     95\u001B[0m warnings\u001B[38;5;241m.\u001B[39mfilterwarnings(\u001B[38;5;124m'\u001B[39m\u001B[38;5;124mignore\u001B[39m\u001B[38;5;124m'\u001B[39m, message\u001B[38;5;241m=\u001B[39m\u001B[38;5;124m'\u001B[39m\u001B[38;5;124mnumpy.ndarray size changed\u001B[39m\u001B[38;5;124m'\u001B[39m)\n\u001B[1;32m     96\u001B[0m \u001B[38;5;66;03m# import extension module from 'path/arch' directory\u001B[39;00m\n\u001B[0;32m---> 97\u001B[0m module \u001B[38;5;241m=\u001B[39m import_module(pkg, name, path, arch)\n\u001B[1;32m     98\u001B[0m module\u001B[38;5;241m.\u001B[39m__arch__ \u001B[38;5;241m=\u001B[39m arch  \u001B[38;5;66;03m# save arch value\u001B[39;00m\n\u001B[1;32m     99\u001B[0m \u001B[38;5;28msetattr\u001B[39m(sys\u001B[38;5;241m.\u001B[39mmodules[pkg], name, module)\n",
      "File \u001B[0;32m/opt/anaconda3/lib/python3.12/site-packages/petsc4py/lib/__init__.py:74\u001B[0m, in \u001B[0;36mImport.<locals>.import_module\u001B[0;34m(pkg, name, path, arch)\u001B[0m\n\u001B[1;32m     72\u001B[0m finder \u001B[38;5;241m=\u001B[39m importlib\u001B[38;5;241m.\u001B[39mmachinery\u001B[38;5;241m.\u001B[39mPathFinder()\n\u001B[1;32m     73\u001B[0m spec \u001B[38;5;241m=\u001B[39m finder\u001B[38;5;241m.\u001B[39mfind_spec(fullname, pathlist)\n\u001B[0;32m---> 74\u001B[0m module \u001B[38;5;241m=\u001B[39m importlib\u001B[38;5;241m.\u001B[39mutil\u001B[38;5;241m.\u001B[39mmodule_from_spec(spec)\n\u001B[1;32m     75\u001B[0m sys\u001B[38;5;241m.\u001B[39mmodules[fullname] \u001B[38;5;241m=\u001B[39m module\n\u001B[1;32m     76\u001B[0m spec\u001B[38;5;241m.\u001B[39mloader\u001B[38;5;241m.\u001B[39mexec_module(module)\n",
      "\u001B[0;31mImportError\u001B[0m: dlopen(/opt/anaconda3/lib/python3.12/site-packages/petsc4py/lib/PETSc.cpython-312-darwin.so, 0x0002): Library not loaded: @rpath/liblapack.3.dylib\n  Referenced from: <76FAFCCD-D660-32D5-8C7D-C7163B299263> /opt/anaconda3/lib/libpetsc.3.21.5.dylib\n  Reason: tried: '/opt/anaconda3/lib/liblapack.3.dylib' (no such file), '/opt/anaconda3/lib/python3.12/site-packages/petsc4py/lib/../../../../liblapack.3.dylib' (no such file), '/opt/anaconda3/lib/python3.12/site-packages/petsc4py/lib/../../../../liblapack.3.dylib' (no such file), '/opt/anaconda3/bin/../lib/liblapack.3.dylib' (no such file), '/opt/anaconda3/bin/../lib/liblapack.3.dylib' (no such file), '/usr/local/lib/liblapack.3.dylib' (no such file), '/usr/lib/liblapack.3.dylib' (no such file, not in dyld cache)"
     ]
    }
   ],
   "execution_count": 15
  },
  {
   "cell_type": "code",
   "execution_count": 7,
   "id": "5ce8b4c0",
   "metadata": {},
   "outputs": [],
   "source": [
    "\n",
    "\n",
    "m, n = 10, 12\n",
    "\n",
    "hx = 1/(m-1)\n",
    "hy = 1/(n-1)\n",
    "\n",
    "# \n",
    "A = PETSc.Mat()\n",
    "A.create(PETSc.COMM_WORLD) # Puede servir para progración en paralelo\n",
    "A.setSizes([m*n,m*n])\n",
    "A.setType('aij') # Dispersa (Sparse)\n",
    "\n",
    "\n",
    "# llenar los valores:A\n",
    "\n",
    "diagv = 2/hx**2 +2/hy**2\n",
    "offdx = -1.0/hx**2\n",
    "offdy = -1.0/hy**2\n",
    "\n",
    "# loop over owned block of rows on this\n",
    "# processor and insert entry values\n",
    "Istart, Iend = A.getOwnershipRange()\n",
    "for I in range(Istart, Iend) :\n",
    "    A[I,I] = diagv\n",
    "    i = I//n # map row number to\n",
    "    j = I - i*n # grid coordinates\n",
    "    if i> 0 : J = I-n; A[I,J] = offdx\n",
    "    if i< m-1: J = I+n; A[I,J] = offdx\n",
    "    if j> 0 : J = I-1; A[I,J] = offdy\n",
    "    if j< n-1: J = I+1; A[I,J] = offdy\n",
    "\n",
    "A.assemblyBegin()\n",
    "A.assemblyEnd()"
   ]
  },
  {
   "cell_type": "code",
   "execution_count": 14,
   "id": "9520a79b",
   "metadata": {},
   "outputs": [
    {
     "name": "stdout",
     "output_type": "stream",
     "text": [
      "Solución x:\n",
      "[ 5.  9. 12. 14. 15. 15. 14. 12.  9.  5.]\n"
     ]
    }
   ],
   "source": [
    "# Crear el solucionador\n",
    "ksp = PETSc.KSP()\n",
    "ksp.create(PETSc.COMM_WORLD)\n",
    "\n",
    "ksp.setType('cg') #gradiente conjugado\n",
    "\n",
    "# precondicionadores\n",
    "ksp.getPC().setType('icc')\n",
    "\n",
    "#  A \n",
    "#  \n",
    "#\n",
    "\n",
    "#PA = Pb\n",
    "\n",
    "# Crear la matriz A (ejemplo de una matriz dispersa simétrica y definida positiva)\n",
    "n = 10  # tamaño del sistema\n",
    "A = PETSc.Mat().createAIJ([n, n])\n",
    "A.setFromOptions()\n",
    "A.setUp()\n",
    "\n",
    "for i in range(n):\n",
    "    A.setValue(i, i, 2.0)  # valores diagonales\n",
    "    if i > 0:\n",
    "        A.setValue(i, i - 1, -1.0)  # valores subdiagonales\n",
    "        A.setValue(i - 1, i, -1.0)  # valores superdiagonales\n",
    "A.assemble()\n",
    "\n",
    "# Establecer la matriz en el solucionador\n",
    "ksp.setOperators(A)\n",
    "\n",
    "# Crear los vectores x y b\n",
    "x, b = A.getVecs()\n",
    "x.set(0)  # vector nulo como punto de partida\n",
    "b.set(1)  # b lleno de unos\n",
    "\n",
    "# Resolver el sistema\n",
    "ksp.solve(b, x)    #PA x= Pb #P=I \n",
    "\n",
    "# Imprimir la solución\n",
    "x_array = x.getArray()\n",
    "print(\"Solución x:\")\n",
    "print(x_array)\n"
   ]
  },
  {
   "cell_type": "code",
   "execution_count": 38,
   "id": "39bd31c3",
   "metadata": {},
   "outputs": [
    {
     "name": "stdout",
     "output_type": "stream",
     "text": [
      "Solución cercana a -2: x = -2.0000000929222947\n",
      "Solución cercana a 2: x = 2.0000000929222947\n"
     ]
    }
   ],
   "source": [
    "from petsc4py import PETSc\n",
    "snes = PETSc.SNES().create()\n",
    "\n",
    "comm = PETSc.COMM_WORLD\n",
    "\n",
    "# Crear el vector para la solución y para la función no lineal\n",
    "x = PETSc.Vec().create(comm=comm)\n",
    "x.setSizes(1)\n",
    "x.setFromOptions()\n",
    "f = x.duplicate()\n",
    "\n",
    "y = x\n",
    "# Definir la función no lineal f(x) = x^2 - 4\n",
    "def eval_f(snes, x, f):\n",
    "    x_val = x.getValue(0)   # Obtener el valor de x sin array\n",
    "    f_val = x_val ** 2 - 4   # (MODIFICAR) Evaluar f(x) = x^2 - 4\n",
    "    f.setValue(0, f_val)     # Asignar f(x) sin array\n",
    "\n",
    "# Definir la función Jacobiana J(x) = d(f)/dx = 2 * x\n",
    "def eval_jacobian(snes, x, J, P):\n",
    "    x_val = x.getValue(0)      # Obtener el valor de x\n",
    "    J.setValue(0, 0, 2 * x_val) # (MODIAFICAR) Derivada de f con respecto a x\n",
    "    J.assemble()\n",
    "\n",
    "# Configurar la función y el Jacobiano en el solver SNES\n",
    "snes.setFunction(eval_f, f)\n",
    "J = PETSc.Mat().createAIJ([1, 1], comm=comm)\n",
    "J.setUp()\n",
    "snes.setJacobian(eval_jacobian, J)\n",
    "snes.setTolerances(atol=1e-5, max_it=1000)\n",
    "# Inicializar el valor inicial de x\n",
    "\n",
    "# Resolver para x cercano a -2\n",
    "x.setValue(0, -1)\n",
    "snes.solve(None, x)\n",
    "print(f\"Solución cercana a -2: x = {x.getValue(0)}\")\n",
    "\n",
    "# Resolver para x cercano a 2\n",
    "x.setValue(0, 1)\n",
    "snes.solve(None, x)\n",
    "print(f\"Solución cercana a 2: x = {x.getValue(0)}\")\n",
    "\n",
    "\n",
    "\n",
    "\n",
    "#-----(-2) -x---- |------(x)------(2)\n",
    "# x = 2, x=-2\n"
   ]
  },
  {
   "cell_type": "code",
   "execution_count": 20,
   "id": "7fdebc36",
   "metadata": {},
   "outputs": [
    {
     "name": "stdout",
     "output_type": "stream",
     "text": [
      "Help on built-in function setValue:\n",
      "\n",
      "setValue(...) method of petsc4py.PETSc.Vec instance\n",
      "    Vec.setValue(self, index: int, value: Scalar, addv: InsertModeSpec = None) -> None\n",
      "    Insert or add a single value in the vector.\n",
      "    \n",
      "            Not collective.\n",
      "    \n",
      "            Parameters\n",
      "            ----------\n",
      "            index\n",
      "                Location to write to. Negative indices are ignored.\n",
      "            value\n",
      "                Value to insert at ``index``.\n",
      "            addv\n",
      "                Insertion mode.\n",
      "    \n",
      "            Notes\n",
      "            -----\n",
      "            The values may be cached so `assemblyBegin` and `assemblyEnd`\n",
      "            must be called after all calls of this method are completed.\n",
      "    \n",
      "            Multiple calls to `setValue` cannot be made with different values\n",
      "            for ``addv`` without intermediate calls to `assemblyBegin` and\n",
      "            `assemblyEnd`.\n",
      "    \n",
      "            See Also\n",
      "            --------\n",
      "            setValues, petsc.VecSetValues\n",
      "    \n",
      "            \n",
      "    Source code at petsc4py/PETSc/Vec.pyx:2771\n",
      "\n"
     ]
    }
   ],
   "source": [
    "help(x.setValue)"
   ]
  },
  {
   "cell_type": "code",
   "execution_count": null,
   "id": "6865d499",
   "metadata": {},
   "outputs": [],
   "source": []
  }
 ],
 "metadata": {
  "kernelspec": {
   "display_name": "Python 3 (ipykernel)",
   "language": "python",
   "name": "python3"
  },
  "language_info": {
   "codemirror_mode": {
    "name": "ipython",
    "version": 3
   },
   "file_extension": ".py",
   "mimetype": "text/x-python",
   "name": "python",
   "nbconvert_exporter": "python",
   "pygments_lexer": "ipython3",
   "version": "3.10.1"
  }
 },
 "nbformat": 4,
 "nbformat_minor": 5
}
