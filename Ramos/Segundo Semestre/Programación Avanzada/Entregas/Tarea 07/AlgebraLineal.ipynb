{
  "nbformat": 4,
  "nbformat_minor": 0,
  "metadata": {
    "colab": {
      "provenance": []
    },
    "kernelspec": {
      "name": "python3",
      "display_name": "Python 3"
    },
    "language_info": {
      "name": "python"
    }
  },
  "cells": [
    {
      "cell_type": "code",
      "execution_count": null,
      "metadata": {
        "id": "uTtezETDOV3d"
      },
      "outputs": [],
      "source": [
        "# Paralelización (Solver: Lineales o no lineales).\n",
        "# Petsc"
      ]
    },
    {
      "cell_type": "code",
      "source": [
        "!pip install petsc4py #"
      ],
      "metadata": {
        "colab": {
          "base_uri": "https://localhost:8080/"
        },
        "id": "omKopsKwOncp",
        "outputId": "1ced84c0-fb64-4f14-c7e3-b642d6be08fe"
      },
      "execution_count": null,
      "outputs": [
        {
          "output_type": "stream",
          "name": "stdout",
          "text": [
            "Collecting petsc4py\n",
            "  Downloading petsc4py-3.22.0.tar.gz (428 kB)\n",
            "\u001b[2K     \u001b[90m━━━━━━━━━━━━━━━━━━━━━━━━━━━━━━━━━━━━━━━━\u001b[0m \u001b[32m428.1/428.1 kB\u001b[0m \u001b[31m5.5 MB/s\u001b[0m eta \u001b[36m0:00:00\u001b[0m\n",
            "\u001b[?25h  Installing build dependencies ... \u001b[?25l\u001b[?25hdone\n",
            "  Getting requirements to build wheel ... \u001b[?25l\u001b[?25hdone\n",
            "  Installing backend dependencies ... \u001b[?25l\u001b[?25hcanceled\n",
            "Traceback (most recent call last):\n",
            "  File \"/usr/local/lib/python3.10/dist-packages/pip/_internal/cli/base_command.py\", line 179, in exc_logging_wrapper\n",
            "    status = run_func(*args)\n",
            "  File \"/usr/local/lib/python3.10/dist-packages/pip/_internal/cli/req_command.py\", line 67, in wrapper\n",
            "    return func(self, options, args)\n",
            "  File \"/usr/local/lib/python3.10/dist-packages/pip/_internal/commands/install.py\", line 377, in run\n",
            "    requirement_set = resolver.resolve(\n",
            "  File \"/usr/local/lib/python3.10/dist-packages/pip/_internal/resolution/resolvelib/resolver.py\", line 95, in resolve\n",
            "    result = self._result = resolver.resolve(\n",
            "  File \"/usr/local/lib/python3.10/dist-packages/pip/_vendor/resolvelib/resolvers.py\", line 546, in resolve\n",
            "    state = resolution.resolve(requirements, max_rounds=max_rounds)\n",
            "  File \"/usr/local/lib/python3.10/dist-packages/pip/_vendor/resolvelib/resolvers.py\", line 397, in resolve\n",
            "    self._add_to_criteria(self.state.criteria, r, parent=None)\n",
            "  File \"/usr/local/lib/python3.10/dist-packages/pip/_vendor/resolvelib/resolvers.py\", line 173, in _add_to_criteria\n",
            "    if not criterion.candidates:\n",
            "  File \"/usr/local/lib/python3.10/dist-packages/pip/_vendor/resolvelib/structs.py\", line 156, in __bool__\n",
            "    return bool(self._sequence)\n",
            "  File \"/usr/local/lib/python3.10/dist-packages/pip/_internal/resolution/resolvelib/found_candidates.py\", line 174, in __bool__\n",
            "    return any(self)\n",
            "  File \"/usr/local/lib/python3.10/dist-packages/pip/_internal/resolution/resolvelib/found_candidates.py\", line 162, in <genexpr>\n",
            "    return (c for c in iterator if id(c) not in self._incompatible_ids)\n",
            "  File \"/usr/local/lib/python3.10/dist-packages/pip/_internal/resolution/resolvelib/found_candidates.py\", line 53, in _iter_built\n",
            "    candidate = func()\n",
            "  File \"/usr/local/lib/python3.10/dist-packages/pip/_internal/resolution/resolvelib/factory.py\", line 185, in _make_candidate_from_link\n",
            "    base: Optional[BaseCandidate] = self._make_base_candidate_from_link(\n",
            "  File \"/usr/local/lib/python3.10/dist-packages/pip/_internal/resolution/resolvelib/factory.py\", line 231, in _make_base_candidate_from_link\n",
            "    self._link_candidate_cache[link] = LinkCandidate(\n",
            "  File \"/usr/local/lib/python3.10/dist-packages/pip/_internal/resolution/resolvelib/candidates.py\", line 303, in __init__\n",
            "    super().__init__(\n",
            "  File \"/usr/local/lib/python3.10/dist-packages/pip/_internal/resolution/resolvelib/candidates.py\", line 158, in __init__\n",
            "    self.dist = self._prepare()\n",
            "  File \"/usr/local/lib/python3.10/dist-packages/pip/_internal/resolution/resolvelib/candidates.py\", line 235, in _prepare\n",
            "    dist = self._prepare_distribution()\n",
            "  File \"/usr/local/lib/python3.10/dist-packages/pip/_internal/resolution/resolvelib/candidates.py\", line 314, in _prepare_distribution\n",
            "    return preparer.prepare_linked_requirement(self._ireq, parallel_builds=True)\n",
            "  File \"/usr/local/lib/python3.10/dist-packages/pip/_internal/operations/prepare.py\", line 527, in prepare_linked_requirement\n",
            "    return self._prepare_linked_requirement(req, parallel_builds)\n",
            "  File \"/usr/local/lib/python3.10/dist-packages/pip/_internal/operations/prepare.py\", line 642, in _prepare_linked_requirement\n",
            "    dist = _get_prepared_distribution(\n",
            "  File \"/usr/local/lib/python3.10/dist-packages/pip/_internal/operations/prepare.py\", line 72, in _get_prepared_distribution\n",
            "    abstract_dist.prepare_distribution_metadata(\n",
            "  File \"/usr/local/lib/python3.10/dist-packages/pip/_internal/distributions/sdist.py\", line 56, in prepare_distribution_metadata\n",
            "    self._install_build_reqs(finder)\n",
            "  File \"/usr/local/lib/python3.10/dist-packages/pip/_internal/distributions/sdist.py\", line 130, in _install_build_reqs\n",
            "    self.req.build_env.install_requirements(\n",
            "  File \"/usr/local/lib/python3.10/dist-packages/pip/_internal/build_env.py\", line 218, in install_requirements\n",
            "    self._install_requirements(\n",
            "  File \"/usr/local/lib/python3.10/dist-packages/pip/_internal/build_env.py\", line 278, in _install_requirements\n",
            "    call_subprocess(\n",
            "  File \"/usr/local/lib/python3.10/dist-packages/pip/_internal/utils/subprocess.py\", line 151, in call_subprocess\n",
            "    line: str = proc.stdout.readline()\n",
            "KeyboardInterrupt\n",
            "\n",
            "During handling of the above exception, another exception occurred:\n",
            "\n",
            "Traceback (most recent call last):\n",
            "  File \"/usr/local/bin/pip3\", line 8, in <module>\n",
            "    sys.exit(main())\n",
            "  File \"/usr/local/lib/python3.10/dist-packages/pip/_internal/cli/main.py\", line 80, in main\n",
            "    return command.main(cmd_args)\n",
            "  File \"/usr/local/lib/python3.10/dist-packages/pip/_internal/cli/base_command.py\", line 100, in main\n",
            "    return self._main(args)\n",
            "  File \"/usr/local/lib/python3.10/dist-packages/pip/_internal/cli/base_command.py\", line 232, in _main\n",
            "    return run(options, args)\n",
            "  File \"/usr/local/lib/python3.10/dist-packages/pip/_internal/cli/base_command.py\", line 215, in exc_logging_wrapper\n",
            "    logger.critical(\"Operation cancelled by user\")\n",
            "  File \"/usr/lib/python3.10/logging/__init__.py\", line 1524, in critical\n",
            "    self._log(CRITICAL, msg, args, **kwargs)\n",
            "  File \"/usr/lib/python3.10/logging/__init__.py\", line 1624, in _log\n",
            "    self.handle(record)\n",
            "  File \"/usr/lib/python3.10/logging/__init__.py\", line 1634, in handle\n",
            "    self.callHandlers(record)\n",
            "  File \"/usr/lib/python3.10/logging/__init__.py\", line 1696, in callHandlers\n",
            "    hdlr.handle(record)\n",
            "  File \"/usr/lib/python3.10/logging/__init__.py\", line 968, in handle\n",
            "    self.emit(record)\n",
            "  File \"/usr/local/lib/python3.10/dist-packages/pip/_internal/utils/logging.py\", line 172, in emit\n",
            "    style = Style(color=\"red\")\n",
            "  File \"/usr/local/lib/python3.10/dist-packages/pip/_vendor/rich/style.py\", line 146, in __init__\n",
            "    def _make_color(color: Union[Color, str]) -> Color:\n",
            "  File \"/usr/lib/python3.10/typing.py\", line 309, in inner\n",
            "    return cached(*args, **kwds)\n",
            "  File \"/usr/lib/python3.10/typing.py\", line 401, in __getitem__\n",
            "    @_tp_cache\n",
            "KeyboardInterrupt\n",
            "^C\n"
          ]
        }
      ]
    },
    {
      "cell_type": "code",
      "source": [
        "# Anaconda (Jupyter-Notebook)\n",
        "# Utilizar las herramientas de petsc (Localmente)\n",
        "# MUMPS (Jupyter-Notebook)\n",
        "# PETSC"
      ],
      "metadata": {
        "id": "176oONBLPfAT"
      },
      "execution_count": null,
      "outputs": []
    },
    {
      "cell_type": "code",
      "source": [],
      "metadata": {
        "id": "gG4Tll84QbtT"
      },
      "execution_count": null,
      "outputs": []
    },
    {
      "cell_type": "markdown",
      "source": [
        "# 5 noviembre (solvers con librerias en paralelo)\n",
        "\n",
        "# Normas para una buena escritura de Python:\n",
        "# https://peps.python.org/pep-0257/\n",
        "\n",
        "# * Pandas\n",
        "# * Scipy sparse (matrices dispersas)\n",
        "# * Clases de funciones (Programación orientada a objeto)\n",
        "# * decoradores...\n",
        "# * binders (crear un archivo: CMake (c++)\n",
        "# * binder con Fortran\n",
        "\n",
        "# * Escribir un archivo archivo.sh (python)\n",
        "\n",
        "# * Git (Github)\n",
        "# * Gitlab\n",
        "# * https://bitbucket.org/product/\n",
        "\n"
      ],
      "metadata": {
        "id": "gAao9Hh5QkiW"
      }
    },
    {
      "cell_type": "markdown",
      "source": [
        "# Solver directos optimizados por libreria scipy (matrices dispersas)"
      ],
      "metadata": {
        "id": "niRmu8AsQuOP"
      }
    },
    {
      "cell_type": "code",
      "source": [
        "import numpy as np\n",
        "import scipy.linalg as spla\n",
        "\n",
        "# Definimos una matriz\n",
        "\n",
        "A = np.array([[3,1,6],[2,1,3],[1,1,1]])\n",
        "b = np.array([9,7,3])\n"
      ],
      "metadata": {
        "id": "PK-uUz_JS7TN"
      },
      "execution_count": null,
      "outputs": []
    },
    {
      "cell_type": "code",
      "source": [
        "#factorización lu\n",
        "\n",
        "lu_piv  = spla.lu_factor(A)\n",
        "\n",
        "x = spla.lu_solve(lu_piv,b)\n",
        "print(x)\n",
        "\n",
        "print(lu_piv)"
      ],
      "metadata": {
        "colab": {
          "base_uri": "https://localhost:8080/"
        },
        "id": "b_4rKt55UkCS",
        "outputId": "898961cb-870f-4721-85f3-aeffb8a03185"
      },
      "execution_count": null,
      "outputs": [
        {
          "output_type": "stream",
          "name": "stdout",
          "text": [
            "[ 8. -3. -2.]\n",
            "(array([[ 3.        ,  1.        ,  6.        ],\n",
            "       [ 0.33333333,  0.66666667, -1.        ],\n",
            "       [ 0.66666667,  0.5       , -0.5       ]]), array([0, 2, 2], dtype=int32))\n"
          ]
        }
      ]
    },
    {
      "cell_type": "code",
      "source": [
        "import numpy as np\n",
        "from scipy.linalg import cho_factor, cho_solve\n",
        "A = np.array([[9, 3, 1, 5], [3, 7, 5, 1], [1, 5, 9, 2], [5, 1, 2, 6]])\n",
        "c, low = cho_factor(A) # realiza la descomposicion de cholesky de A y devuelve una matriz triangular inferior (y un indicador pasa saber si la parte superior o inferior que se ha almacenado)\n",
        "\n",
        "\n",
        "x = cho_solve((c, low), [1, 1, 1, 1]) #cho_solve utiliza la descomposicion de Cholesky para resolver el sitema A x= b\n",
        "x"
      ],
      "metadata": {
        "colab": {
          "base_uri": "https://localhost:8080/"
        },
        "id": "O05emZ5KVk4i",
        "outputId": "1cc87958-1ebe-4069-de05-6a6d22602bd1"
      },
      "execution_count": null,
      "outputs": [
        {
          "output_type": "execute_result",
          "data": {
            "text/plain": [
              "array([-0.01749271,  0.11953353,  0.01166181,  0.1574344 ])"
            ]
          },
          "metadata": {},
          "execution_count": 20
        }
      ]
    },
    {
      "cell_type": "code",
      "source": [
        "# material complementario: Cuenta el numero de operaciones que se necesitan\n",
        "# Cramer\n",
        "# lu\n",
        "# cholesky"
      ],
      "metadata": {
        "id": "dU4NJuEhWemY"
      },
      "execution_count": null,
      "outputs": []
    },
    {
      "cell_type": "code",
      "source": [
        "# Métodos iterativos:\n",
        "# Método de Jacobi"
      ],
      "metadata": {
        "id": "HNXg1lloZHHy"
      },
      "execution_count": null,
      "outputs": []
    },
    {
      "cell_type": "markdown",
      "source": [
        "# Implementación del método de Jacobi en Scipy"
      ],
      "metadata": {
        "id": "csSNUnH7ZywH"
      }
    },
    {
      "cell_type": "markdown",
      "source": [
        "Para este metodo se necesita que Diagonal no sea cero, si no hay que permutar.\n",
        "\n",
        "$$ A x = b$$\n",
        "\n",
        "$$ PA x = Pb $$\n",
        "\n",
        "(Métodos precondicionador)"
      ],
      "metadata": {
        "id": "G_VHpVxca-4R"
      }
    },
    {
      "cell_type": "code",
      "source": [],
      "metadata": {
        "id": "C5t6uzUFa9yC"
      },
      "execution_count": null,
      "outputs": []
    },
    {
      "cell_type": "code",
      "source": [
        "import numpy as np\n",
        "from scipy.linalg import norm"
      ],
      "metadata": {
        "id": "VR-Aj3xpZPiY"
      },
      "execution_count": null,
      "outputs": []
    },
    {
      "cell_type": "code",
      "source": [
        "# Definir la matriz A y el vector b\n",
        "A = np.array([[4, -1, 0, 0],\n",
        "              [-1, 4, -1, 0],\n",
        "              [0, -1, 4, -1],\n",
        "              [0, 0, -1, 3]])\n",
        "\n",
        "b = np.array([15, 10, 10, 10])"
      ],
      "metadata": {
        "id": "TzhjQ8HnZ4hw"
      },
      "execution_count": null,
      "outputs": []
    },
    {
      "cell_type": "code",
      "source": [
        "# Condiciones iniciales\n",
        "x = np.zeros_like(b)  # Vector inicial (x0)\n",
        "\n",
        "# Ax_0 = b;  x_0 = 0\n",
        "# A(x_1) = b\n",
        "\n",
        "tolerancia = 1e-10   # Tolerancia para la convergencia\n",
        "max_iteraciones = 1000  # Máximo número de iteraciones\n"
      ],
      "metadata": {
        "id": "MS4iKuixZ7D5"
      },
      "execution_count": null,
      "outputs": []
    },
    {
      "cell_type": "code",
      "source": [
        "# Implementación del método de Jacobi usando scipy/numpy\n",
        "def jacobi_scipy(A, b, x, tolerancia, max_iteraciones):\n",
        "    D = np.diag(np.diag(A))     # Extrae la diagonal de A\n",
        "    L_plus_U = A - D            # Matriz L + U\n",
        "\n",
        "    for k in range(max_iteraciones):\n",
        "        x_nuevo = (b - np.dot(L_plus_U, x)) / np.diag(A)  # Fórmula de Jacobi\n",
        "        # Comprobar la convergencia\n",
        "        if norm(x_nuevo - x, ord=np.inf) < tolerancia:\n",
        "            print(f\"Convergencia alcanzada en {k+1} iteraciones.\")\n",
        "            return x_nuevo\n",
        "        x = x_nuevo\n",
        "\n",
        "    print(\"Número máximo de iteraciones alcanzado.\")\n",
        "    return x"
      ],
      "metadata": {
        "id": "eMk-_3bJaG_N"
      },
      "execution_count": null,
      "outputs": []
    },
    {
      "cell_type": "markdown",
      "source": [
        "# Método del gradiente conjugado:\n",
        "# A debe ser simétrica y definida positiva.\n",
        "\n",
        "Minimizar este problema\n",
        "$$ \\phi(x)= \\frac{1}{2} x^tA x -b^t x $$"
      ],
      "metadata": {
        "id": "YBGWEi44c2Oq"
      }
    },
    {
      "cell_type": "markdown",
      "source": [],
      "metadata": {
        "id": "Xm-cgyr0dLgD"
      }
    },
    {
      "cell_type": "code",
      "source": [
        "import numpy as np\n",
        "from scipy.sparse.linalg import cg\n",
        "\n",
        "# Definir la matriz A (simétrica y definida positiva) y el vector b\n",
        "A = np.array([[4, 1], [1, 3]])\n",
        "b = np.array([1, 2])\n",
        "\n",
        "x0 = np.zeros_like(b)\n",
        "\n",
        "# Definir la matriz A (simétrica y definida positiva) y el vector b\n",
        "A = np.array([[4, 1], [1, 3]])\n",
        "b = np.array([1, 2])\n",
        "\n",
        "x = cg(A, b, x0)\n",
        "x\n"
      ],
      "metadata": {
        "colab": {
          "base_uri": "https://localhost:8080/"
        },
        "id": "NL4JtXMidE2G",
        "outputId": "94d05c51-f067-4945-c4d5-d0e6f881dd6f"
      },
      "execution_count": null,
      "outputs": [
        {
          "output_type": "execute_result",
          "data": {
            "text/plain": [
              "(array([0.09090909, 0.63636364]), 0)"
            ]
          },
          "metadata": {},
          "execution_count": 30
        }
      ]
    },
    {
      "cell_type": "code",
      "source": [
        "help(cg)"
      ],
      "metadata": {
        "colab": {
          "base_uri": "https://localhost:8080/"
        },
        "id": "lgKTuTU7duLu",
        "outputId": "11e01fdc-bf24-4a88-c633-7c492a24edbd"
      },
      "execution_count": null,
      "outputs": [
        {
          "output_type": "stream",
          "name": "stdout",
          "text": [
            "Help on function cg in module scipy.sparse.linalg._isolve.iterative:\n",
            "\n",
            "cg(A, b, x0=None, *, tol=<object object at 0x797d38f1a230>, maxiter=None, M=None, callback=None, atol=0.0, rtol=1e-05)\n",
            "    Use Conjugate Gradient iteration to solve ``Ax = b``.\n",
            "    \n",
            "    Parameters\n",
            "    ----------\n",
            "    A : {sparse matrix, ndarray, LinearOperator}\n",
            "        The real or complex N-by-N matrix of the linear system.\n",
            "        ``A`` must represent a hermitian, positive definite matrix.\n",
            "        Alternatively, ``A`` can be a linear operator which can\n",
            "        produce ``Ax`` using, e.g.,\n",
            "        ``scipy.sparse.linalg.LinearOperator``.\n",
            "    b : ndarray\n",
            "        Right hand side of the linear system. Has shape (N,) or (N,1).\n",
            "    x0 : ndarray\n",
            "        Starting guess for the solution.\n",
            "    rtol, atol : float, optional\n",
            "        Parameters for the convergence test. For convergence,\n",
            "        ``norm(b - A @ x) <= max(rtol*norm(b), atol)`` should be satisfied.\n",
            "        The default is ``atol=0.`` and ``rtol=1e-5``.\n",
            "    maxiter : integer\n",
            "        Maximum number of iterations.  Iteration will stop after maxiter\n",
            "        steps even if the specified tolerance has not been achieved.\n",
            "    M : {sparse matrix, ndarray, LinearOperator}\n",
            "        Preconditioner for A.  The preconditioner should approximate the\n",
            "        inverse of A.  Effective preconditioning dramatically improves the\n",
            "        rate of convergence, which implies that fewer iterations are needed\n",
            "        to reach a given error tolerance.\n",
            "    callback : function\n",
            "        User-supplied function to call after each iteration.  It is called\n",
            "        as callback(xk), where xk is the current solution vector.\n",
            "    tol : float, optional, deprecated\n",
            "    \n",
            "        .. deprecated:: 1.12.0\n",
            "           `cg` keyword argument ``tol`` is deprecated in favor of ``rtol`` and\n",
            "           will be removed in SciPy 1.14.0.\n",
            "    \n",
            "    Returns\n",
            "    -------\n",
            "    x : ndarray\n",
            "        The converged solution.\n",
            "    info : integer\n",
            "        Provides convergence information:\n",
            "            0  : successful exit\n",
            "            >0 : convergence to tolerance not achieved, number of iterations\n",
            "    \n",
            "    Examples\n",
            "    --------\n",
            "    >>> import numpy as np\n",
            "    >>> from scipy.sparse import csc_matrix\n",
            "    >>> from scipy.sparse.linalg import cg\n",
            "    >>> P = np.array([[4, 0, 1, 0],\n",
            "    ...               [0, 5, 0, 0],\n",
            "    ...               [1, 0, 3, 2],\n",
            "    ...               [0, 0, 2, 4]])\n",
            "    >>> A = csc_matrix(P)\n",
            "    >>> b = np.array([-1, -0.5, -1, 2])\n",
            "    >>> x, exit_code = cg(A, b, atol=1e-5)\n",
            "    >>> print(exit_code)    # 0 indicates successful convergence\n",
            "    0\n",
            "    >>> np.allclose(A.dot(x), b)\n",
            "    True\n",
            "\n"
          ]
        }
      ]
    },
    {
      "cell_type": "markdown",
      "source": [
        "Como resolver este problema\n",
        "$$\n",
        "\\begin{pmatrix}\n",
        "A & B \\\\\n",
        "B^t & 0\n",
        "\\end{pmatrix}\n",
        "\\begin{pmatrix}\n",
        "x_1 \\\\\n",
        "x_2\n",
        "\\end{pmatrix}\n",
        "=\n",
        "\\begin{pmatrix}\n",
        "b_1 \\\\\n",
        "b_2\n",
        "\\end{pmatrix}\n",
        "$$\n",
        "\n",
        "$Ax = b$\n",
        "\n",
        "Resolver con gmres"
      ],
      "metadata": {
        "id": "v6CAl77We4aJ"
      }
    },
    {
      "cell_type": "markdown",
      "source": [
        "$$ Ax_1 + Bx_2 = b_1$$\n",
        "$$B^t x_1 = b_2$$"
      ],
      "metadata": {
        "id": "_Iu0eyTKg8tK"
      }
    },
    {
      "cell_type": "markdown",
      "source": [
        "$$x_1 + A^{-1}B x_2 = A^{-1}b_1$$\n",
        "$$B^tx_1 = b_2 $$"
      ],
      "metadata": {
        "id": "3cEQi43bhRQC"
      }
    },
    {
      "cell_type": "markdown",
      "source": [
        "$$ B^tx_1 + B^t A^{-1}B x_2 = A^{-1}b_1 $$\n",
        "\n",
        "\n",
        "$$ B^t A^{-1} B x_2 = A^{-1} b_1  - b_2$$"
      ],
      "metadata": {
        "id": "YT7x4AGShoSR"
      }
    },
    {
      "cell_type": "code",
      "source": [
        "import numpy as np\n",
        "from scipy.sparse.linalg import gmres\n",
        "\n",
        "# Definir la matriz A\n",
        "A = np.array([[4, 1], [1, 3]])\n",
        "b = np.array([1, 2])\n",
        "\n",
        "x0 = np.zeros_like(b)\n",
        "\n",
        "# Definir la matriz A (simétrica y definida positiva) y el vector b\n",
        "A = np.array([[4, 1], [1, 3]]) #simetrica y definida positiva\n",
        "b = np.array([1, 2])\n",
        "\n",
        "x = gmres(A, b, x0)\n",
        "x\n"
      ],
      "metadata": {
        "colab": {
          "base_uri": "https://localhost:8080/"
        },
        "id": "op83_JE-gBrx",
        "outputId": "171aeaa5-7ddb-40e6-ce4d-eb3ed0192488"
      },
      "execution_count": null,
      "outputs": [
        {
          "output_type": "execute_result",
          "data": {
            "text/plain": [
              "(array([0.09090909, 0.63636364]), 0)"
            ]
          },
          "metadata": {},
          "execution_count": 32
        }
      ]
    },
    {
      "cell_type": "code",
      "source": [
        "# Solvers (No lineales)"
      ],
      "metadata": {
        "id": "f4M0fhAWgq_Q"
      },
      "execution_count": null,
      "outputs": []
    },
    {
      "cell_type": "code",
      "source": [
        "#A no es cuadrada\n",
        "\n",
        "# min \\| Ax-b\\|"
      ],
      "metadata": {
        "id": "0ASNSJDbicWO"
      },
      "execution_count": null,
      "outputs": []
    },
    {
      "cell_type": "code",
      "source": [],
      "metadata": {
        "id": "QecxBTFOifdG"
      },
      "execution_count": null,
      "outputs": []
    }
  ]
}