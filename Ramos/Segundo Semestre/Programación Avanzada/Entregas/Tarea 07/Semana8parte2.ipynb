{
  "nbformat": 4,
  "nbformat_minor": 0,
  "metadata": {
    "colab": {
      "provenance": []
    },
    "kernelspec": {
      "name": "python3",
      "display_name": "Python 3"
    },
    "language_info": {
      "name": "python"
    }
  },
  "cells": [
    {
      "cell_type": "markdown",
      "source": [
        "Llamar un archivo Python desde la consola o terminal a través de un archivo bash."
      ],
      "metadata": {
        "id": "E-Z0LU9JVgFK"
      }
    },
    {
      "cell_type": "code",
      "source": [
        "!/content/ejecuta_suma.sh 2 3"
      ],
      "metadata": {
        "colab": {
          "base_uri": "https://localhost:8080/"
        },
        "id": "qofdg4kUVldA",
        "outputId": "625e5e65-d3ff-434a-be28-796a444ad949"
      },
      "execution_count": null,
      "outputs": [
        {
          "output_type": "stream",
          "name": "stdout",
          "text": [
            "/bin/bash: /content/ejecuta_suma.sh: bin/bash: bad interpreter: No such file or directory\n"
          ]
        }
      ]
    },
    {
      "cell_type": "code",
      "source": [
        "!chmod +x ejecuta_suma.sh"
      ],
      "metadata": {
        "id": "qxt5ejmlXpNE"
      },
      "execution_count": null,
      "outputs": []
    },
    {
      "cell_type": "code",
      "source": [
        "!/content/ejecuta_suma.sh 2 3"
      ],
      "metadata": {
        "colab": {
          "base_uri": "https://localhost:8080/"
        },
        "id": "w1V35h3KXx7Y",
        "outputId": "609c0f7d-75e1-4cc6-fb86-51970c928a13"
      },
      "execution_count": null,
      "outputs": [
        {
          "output_type": "stream",
          "name": "stdout",
          "text": [
            "/bin/bash: /content/ejecuta_suma.sh: bin/bash: bad interpreter: No such file or directory\n"
          ]
        }
      ]
    },
    {
      "cell_type": "code",
      "source": [
        "ls"
      ],
      "metadata": {
        "colab": {
          "base_uri": "https://localhost:8080/"
        },
        "id": "48BEMCpqXz9j",
        "outputId": "e8d68731-720c-464f-c547-1512998e48ba"
      },
      "execution_count": null,
      "outputs": [
        {
          "output_type": "stream",
          "name": "stdout",
          "text": [
            "\u001b[0m\u001b[01;32mejecuta_suma.sh\u001b[0m*  \u001b[01;34msample_data\u001b[0m/  suma.py\n"
          ]
        }
      ]
    },
    {
      "cell_type": "code",
      "source": [
        "!/content/ejecuta_suma.sh"
      ],
      "metadata": {
        "colab": {
          "base_uri": "https://localhost:8080/"
        },
        "id": "FR88IyRzX2hi",
        "outputId": "4c170ce8-cc0d-4154-f8e6-956e2be4fdb1"
      },
      "execution_count": null,
      "outputs": [
        {
          "output_type": "stream",
          "name": "stdout",
          "text": [
            "/bin/bash: /content/ejecuta_suma.sh: bin/bash: bad interpreter: No such file or directory\n"
          ]
        }
      ]
    },
    {
      "cell_type": "code",
      "source": [
        "import suma"
      ],
      "metadata": {
        "id": "A_Q5MQ6sX5tc"
      },
      "execution_count": null,
      "outputs": []
    },
    {
      "cell_type": "code",
      "source": [
        "!python3 suma.py 2 3"
      ],
      "metadata": {
        "colab": {
          "base_uri": "https://localhost:8080/"
        },
        "id": "sGgBdWVpYaZM",
        "outputId": "994104ec-20c0-433f-ed38-d2c9ee442bb7"
      },
      "execution_count": null,
      "outputs": [
        {
          "output_type": "stream",
          "name": "stdout",
          "text": [
            "el resultado de sumar 2 y 3 es: 5\n"
          ]
        }
      ]
    },
    {
      "cell_type": "code",
      "source": [
        "!/content/ejecuta_suma.sh 2 3"
      ],
      "metadata": {
        "colab": {
          "base_uri": "https://localhost:8080/"
        },
        "id": "tA3HB-TYYcXN",
        "outputId": "e8087bfd-f8f4-4a22-df7d-584d69ccbd5a"
      },
      "execution_count": null,
      "outputs": [
        {
          "output_type": "stream",
          "name": "stdout",
          "text": [
            "el resultado de sumar 2 y 3 es: 5\n"
          ]
        }
      ]
    },
    {
      "cell_type": "code",
      "source": [
        "!/content/ejecuta_suma.sh 2 3 4 5 6 7"
      ],
      "metadata": {
        "colab": {
          "base_uri": "https://localhost:8080/"
        },
        "id": "CPPyaWJ3Y2-t",
        "outputId": "78c7999f-2b50-4531-ebd1-4d4d101b8547"
      },
      "execution_count": null,
      "outputs": [
        {
          "output_type": "stream",
          "name": "stdout",
          "text": [
            "el resultado de sumar 2 y 3 es: 5\n"
          ]
        }
      ]
    },
    {
      "cell_type": "code",
      "source": [
        "!/content/ejecuta_suma.sh 2 3 4 5 6 7"
      ],
      "metadata": {
        "colab": {
          "base_uri": "https://localhost:8080/"
        },
        "id": "vb9cacScZT9w",
        "outputId": "1957463d-acd3-4253-e783-8dda46c25b91"
      },
      "execution_count": null,
      "outputs": [
        {
          "output_type": "stream",
          "name": "stdout",
          "text": [
            "Uso: !/content/ejecutar_suma.sh <a> <b>\n"
          ]
        }
      ]
    },
    {
      "cell_type": "code",
      "source": [],
      "metadata": {
        "id": "dBcs-LIzZoZp"
      },
      "execution_count": null,
      "outputs": []
    }
  ]
}