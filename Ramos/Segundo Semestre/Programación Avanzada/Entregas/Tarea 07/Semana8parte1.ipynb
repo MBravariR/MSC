{
  "nbformat": 4,
  "nbformat_minor": 0,
  "metadata": {
    "colab": {
      "provenance": []
    },
    "kernelspec": {
      "name": "python3",
      "display_name": "Python 3"
    },
    "language_info": {
      "name": "python"
    }
  },
  "cells": [
    {
      "cell_type": "markdown",
      "source": [
        "Crar un archivo.cpp y luego leerlo en python"
      ],
      "metadata": {
        "id": "AFK_jY-ZKgAf"
      }
    },
    {
      "cell_type": "code",
      "source": [
        "!pip install pybind11"
      ],
      "metadata": {
        "colab": {
          "base_uri": "https://localhost:8080/"
        },
        "id": "8ME_Mc8CKjVb",
        "outputId": "5709bd40-58c5-44df-ef2d-19a6a25689e5"
      },
      "execution_count": null,
      "outputs": [
        {
          "output_type": "stream",
          "name": "stdout",
          "text": [
            "Requirement already satisfied: pybind11 in /usr/local/lib/python3.10/dist-packages (2.13.6)\n"
          ]
        }
      ]
    },
    {
      "cell_type": "code",
      "source": [
        "import pybind11\n",
        "print(pybind11.get_cmake_dir())"
      ],
      "metadata": {
        "colab": {
          "base_uri": "https://localhost:8080/"
        },
        "id": "sD7Hy35KMF3V",
        "outputId": "9bfe4e45-7efc-4aa0-8605-3bce43c2fb14"
      },
      "execution_count": null,
      "outputs": [
        {
          "output_type": "stream",
          "name": "stdout",
          "text": [
            "/usr/local/lib/python3.10/dist-packages/pybind11/share/cmake/pybind11\n"
          ]
        }
      ]
    },
    {
      "cell_type": "code",
      "source": [
        "#!mkdir build # crear una carpeta llamada build\n",
        "#% cd build # ir a la carpeta build\n",
        "#!cmake .. # ejecutar el comando cmake\n",
        "#!make # ejecutar el comando make"
      ],
      "metadata": {
        "colab": {
          "base_uri": "https://localhost:8080/"
        },
        "id": "par6D51MMSYr",
        "outputId": "aafd0ec8-08cc-483b-936f-eaa05f0c0954"
      },
      "execution_count": null,
      "outputs": [
        {
          "output_type": "stream",
          "name": "stderr",
          "text": [
            "UsageError: Line magic function `%` not found.\n"
          ]
        }
      ]
    },
    {
      "cell_type": "code",
      "source": [
        "%cd build"
      ],
      "metadata": {
        "colab": {
          "base_uri": "https://localhost:8080/"
        },
        "id": "oCkeJXbZOomb",
        "outputId": "23a1b6d2-061a-4369-81ab-faca6d9ef504"
      },
      "execution_count": null,
      "outputs": [
        {
          "output_type": "stream",
          "name": "stdout",
          "text": [
            "/content/build\n"
          ]
        }
      ]
    },
    {
      "cell_type": "code",
      "source": [
        "!cmake .."
      ],
      "metadata": {
        "colab": {
          "base_uri": "https://localhost:8080/"
        },
        "id": "uXBgmEYFOpyL",
        "outputId": "9cb9ab06-5c5a-41f1-cddc-62d66c630b08"
      },
      "execution_count": null,
      "outputs": [
        {
          "output_type": "stream",
          "name": "stdout",
          "text": [
            "\u001b[33mCMake Warning (dev) at /usr/local/lib/python3.10/dist-packages/pybind11/share/cmake/pybind11/FindPythonLibsNew.cmake:101 (message):\n",
            "  Policy CMP0148 is not set: The FindPythonInterp and FindPythonLibs modules\n",
            "  are removed.  Run \"cmake --help-policy CMP0148\" for policy details.  Use\n",
            "  the cmake_policy command to set the policy and suppress this warning, or\n",
            "  preferably upgrade to using FindPython, either by calling it explicitly\n",
            "  before pybind11, or by setting PYBIND11_FINDPYTHON ON before pybind11.\n",
            "Call Stack (most recent call first):\n",
            "  /usr/local/lib/python3.10/dist-packages/pybind11/share/cmake/pybind11/pybind11Tools.cmake:50 (find_package)\n",
            "  /usr/local/lib/python3.10/dist-packages/pybind11/share/cmake/pybind11/pybind11Common.cmake:228 (include)\n",
            "  /usr/local/lib/python3.10/dist-packages/pybind11/share/cmake/pybind11/pybind11Config.cmake:250 (include)\n",
            "  CMakeLists.txt:6 (find_package)\n",
            "This warning is for project developers.  Use -Wno-dev to suppress it.\n",
            "\u001b[0m\n",
            "-- Found pybind11: /usr/local/lib/python3.10/dist-packages/pybind11/include (found version \"2.13.6\")\n",
            "-- Configuring done (0.1s)\n",
            "-- Generating done (0.0s)\n",
            "-- Build files have been written to: /content/build\n"
          ]
        }
      ]
    },
    {
      "cell_type": "code",
      "source": [
        "!make"
      ],
      "metadata": {
        "colab": {
          "base_uri": "https://localhost:8080/"
        },
        "id": "PPCqZ822OzEq",
        "outputId": "8fe426dc-ad40-4064-a6ee-0b6a470263ff"
      },
      "execution_count": null,
      "outputs": [
        {
          "output_type": "stream",
          "name": "stdout",
          "text": [
            "[ 50%] \u001b[32mBuilding CXX object CMakeFiles/stl_bindings.dir/archivo.cpp.o\u001b[0m\n",
            "[100%] \u001b[32m\u001b[1mLinking CXX shared module stl_bindings.so\u001b[0m\n",
            "[100%] Built target stl_bindings\n"
          ]
        }
      ]
    },
    {
      "cell_type": "code",
      "source": [
        "!ls"
      ],
      "metadata": {
        "colab": {
          "base_uri": "https://localhost:8080/"
        },
        "id": "kNMNGIWTPTzb",
        "outputId": "e2e37cf7-107a-4329-f41f-6879c8e62349"
      },
      "execution_count": null,
      "outputs": [
        {
          "output_type": "stream",
          "name": "stdout",
          "text": [
            "CMakeCache.txt\tCMakeFiles  cmake_install.cmake  Makefile  stl_bindings.so\n"
          ]
        }
      ]
    },
    {
      "cell_type": "code",
      "source": [
        "import sys\n",
        "sys.path.append('/content/build')\n",
        "\n",
        "import stl_bindings\n",
        "\n",
        "# Crear dos vectores para sumarlos\n",
        "\n",
        "a = [1,2,3]\n",
        "b = [2,3,4]\n",
        "\n",
        "resultado = stl_bindings.sum_vectors(a,b)\n",
        "print(\"la suma de los vectores es \", resultado)\n",
        "\n",
        "r = stl_bindings.create_map()\n",
        "\n",
        "type(r)"
      ],
      "metadata": {
        "colab": {
          "base_uri": "https://localhost:8080/"
        },
        "id": "G_yLPevgPcn_",
        "outputId": "764b5284-f4f3-41a1-bb07-f7f6212e88ca"
      },
      "execution_count": null,
      "outputs": [
        {
          "output_type": "stream",
          "name": "stdout",
          "text": [
            "la suma de los vectores es  [3, 5, 7]\n"
          ]
        },
        {
          "output_type": "execute_result",
          "data": {
            "text/plain": [
              "dict"
            ]
          },
          "metadata": {},
          "execution_count": 7
        }
      ]
    },
    {
      "cell_type": "code",
      "source": [
        "stl_bindings.saludo()"
      ],
      "metadata": {
        "colab": {
          "base_uri": "https://localhost:8080/",
          "height": 35
        },
        "id": "MF1OZ5V0P-rT",
        "outputId": "33210399-d255-485a-cb0d-740168d81d9d"
      },
      "execution_count": null,
      "outputs": [
        {
          "output_type": "execute_result",
          "data": {
            "text/plain": [
              "'Hola, desde C++!'"
            ],
            "application/vnd.google.colaboratory.intrinsic+json": {
              "type": "string"
            }
          },
          "metadata": {},
          "execution_count": 8
        }
      ]
    },
    {
      "cell_type": "code",
      "source": [
        "%cd ..\n"
      ],
      "metadata": {
        "colab": {
          "base_uri": "https://localhost:8080/"
        },
        "id": "4IhS4HkhSOKa",
        "outputId": "213b07ba-c001-4988-d33c-07f07d2a5aaf"
      },
      "execution_count": null,
      "outputs": [
        {
          "output_type": "stream",
          "name": "stdout",
          "text": [
            "/content\n"
          ]
        }
      ]
    },
    {
      "cell_type": "code",
      "source": [
        "!rm -rf build"
      ],
      "metadata": {
        "id": "dt6QL6UZSZuc"
      },
      "execution_count": null,
      "outputs": []
    },
    {
      "cell_type": "code",
      "source": [
        "!mkdir -p build\n",
        "%cd build"
      ],
      "metadata": {
        "colab": {
          "base_uri": "https://localhost:8080/"
        },
        "id": "p6eh2HV8SfJs",
        "outputId": "55fbfa42-9478-4427-962f-51aea2207852"
      },
      "execution_count": null,
      "outputs": [
        {
          "output_type": "stream",
          "name": "stdout",
          "text": [
            "/content/build\n"
          ]
        }
      ]
    },
    {
      "cell_type": "code",
      "source": [
        "!cmake .."
      ],
      "metadata": {
        "colab": {
          "base_uri": "https://localhost:8080/"
        },
        "id": "SAZWbMDBSgOr",
        "outputId": "feff0984-f388-4954-b885-9c00d4807dc5"
      },
      "execution_count": null,
      "outputs": [
        {
          "output_type": "stream",
          "name": "stdout",
          "text": [
            "-- The C compiler identification is GNU 11.4.0\n",
            "-- The CXX compiler identification is GNU 11.4.0\n",
            "-- Detecting C compiler ABI info\n",
            "-- Detecting C compiler ABI info - done\n",
            "-- Check for working C compiler: /usr/bin/cc - skipped\n",
            "-- Detecting C compile features\n",
            "-- Detecting C compile features - done\n",
            "-- Detecting CXX compiler ABI info\n",
            "-- Detecting CXX compiler ABI info - done\n",
            "-- Check for working CXX compiler: /usr/bin/c++ - skipped\n",
            "-- Detecting CXX compile features\n",
            "-- Detecting CXX compile features - done\n",
            "\u001b[33mCMake Warning (dev) at /usr/local/lib/python3.10/dist-packages/pybind11/share/cmake/pybind11/FindPythonLibsNew.cmake:101 (message):\n",
            "  Policy CMP0148 is not set: The FindPythonInterp and FindPythonLibs modules\n",
            "  are removed.  Run \"cmake --help-policy CMP0148\" for policy details.  Use\n",
            "  the cmake_policy command to set the policy and suppress this warning, or\n",
            "  preferably upgrade to using FindPython, either by calling it explicitly\n",
            "  before pybind11, or by setting PYBIND11_FINDPYTHON ON before pybind11.\n",
            "Call Stack (most recent call first):\n",
            "  /usr/local/lib/python3.10/dist-packages/pybind11/share/cmake/pybind11/pybind11Tools.cmake:50 (find_package)\n",
            "  /usr/local/lib/python3.10/dist-packages/pybind11/share/cmake/pybind11/pybind11Common.cmake:228 (include)\n",
            "  /usr/local/lib/python3.10/dist-packages/pybind11/share/cmake/pybind11/pybind11Config.cmake:250 (include)\n",
            "  CMakeLists.txt:6 (find_package)\n",
            "This warning is for project developers.  Use -Wno-dev to suppress it.\n",
            "\u001b[0m\n",
            "-- Found PythonInterp: /usr/bin/python3 (found suitable version \"3.10.12\", minimum required is \"3.7\")\n",
            "-- Found PythonLibs: /usr/lib/x86_64-linux-gnu/libpython3.10.so\n",
            "-- Performing Test HAS_FLTO\n",
            "-- Performing Test HAS_FLTO - Success\n",
            "-- Found pybind11: /usr/local/lib/python3.10/dist-packages/pybind11/include (found version \"2.13.6\")\n",
            "-- Configuring done (0.7s)\n",
            "-- Generating done (0.0s)\n",
            "-- Build files have been written to: /content/build\n"
          ]
        }
      ]
    },
    {
      "cell_type": "code",
      "source": [
        "!make"
      ],
      "metadata": {
        "colab": {
          "base_uri": "https://localhost:8080/"
        },
        "id": "K-FQ37stSsXQ",
        "outputId": "3d241b7a-4709-4182-e1a8-540bad02ac12"
      },
      "execution_count": null,
      "outputs": [
        {
          "output_type": "stream",
          "name": "stdout",
          "text": [
            "[ 50%] \u001b[32mBuilding CXX object CMakeFiles/stl_bindings.dir/archivo.cpp.o\u001b[0m\n",
            "[100%] \u001b[32m\u001b[1mLinking CXX shared module stl_bindings.so\u001b[0m\n",
            "[100%] Built target stl_bindings\n"
          ]
        }
      ]
    },
    {
      "cell_type": "code",
      "source": [
        "import sys\n",
        "sys.path.append('/content/build')\n",
        "\n",
        "import stl_bindings\n",
        "\n",
        "# Crear dos vectores para sumarlos\n",
        "\n",
        "a = [1,2,3]\n",
        "b = [2,3,4]\n",
        "\n",
        "resultado = stl_bindings.sum_vectors(a,b)\n",
        "print(\"la suma de los vectores es \", resultado)\n",
        "\n",
        "r = stl_bindings.create_map()\n",
        "\n",
        "type(r)"
      ],
      "metadata": {
        "colab": {
          "base_uri": "https://localhost:8080/"
        },
        "id": "kxZJA_2nSuRM",
        "outputId": "8bfa969e-6e39-49af-814b-9998fa077ab7"
      },
      "execution_count": null,
      "outputs": [
        {
          "output_type": "stream",
          "name": "stdout",
          "text": [
            "la suma de los vectores es  [3, 5, 7]\n"
          ]
        },
        {
          "output_type": "execute_result",
          "data": {
            "text/plain": [
              "dict"
            ]
          },
          "metadata": {},
          "execution_count": 33
        }
      ]
    },
    {
      "cell_type": "code",
      "source": [
        "!cmake .."
      ],
      "metadata": {
        "colab": {
          "base_uri": "https://localhost:8080/"
        },
        "id": "Pi8v03dVSzzX",
        "outputId": "bcd11b21-ac74-4cf8-8eef-ec449952e85c"
      },
      "execution_count": null,
      "outputs": [
        {
          "output_type": "stream",
          "name": "stdout",
          "text": [
            "\u001b[33mCMake Warning (dev) at /usr/local/lib/python3.10/dist-packages/pybind11/share/cmake/pybind11/FindPythonLibsNew.cmake:101 (message):\n",
            "  Policy CMP0148 is not set: The FindPythonInterp and FindPythonLibs modules\n",
            "  are removed.  Run \"cmake --help-policy CMP0148\" for policy details.  Use\n",
            "  the cmake_policy command to set the policy and suppress this warning, or\n",
            "  preferably upgrade to using FindPython, either by calling it explicitly\n",
            "  before pybind11, or by setting PYBIND11_FINDPYTHON ON before pybind11.\n",
            "Call Stack (most recent call first):\n",
            "  /usr/local/lib/python3.10/dist-packages/pybind11/share/cmake/pybind11/pybind11Tools.cmake:50 (find_package)\n",
            "  /usr/local/lib/python3.10/dist-packages/pybind11/share/cmake/pybind11/pybind11Common.cmake:228 (include)\n",
            "  /usr/local/lib/python3.10/dist-packages/pybind11/share/cmake/pybind11/pybind11Config.cmake:250 (include)\n",
            "  CMakeLists.txt:6 (find_package)\n",
            "This warning is for project developers.  Use -Wno-dev to suppress it.\n",
            "\u001b[0m\n",
            "-- Found pybind11: /usr/local/lib/python3.10/dist-packages/pybind11/include (found version \"2.13.6\")\n",
            "-- Configuring done (0.1s)\n",
            "-- Generating done (0.0s)\n",
            "-- Build files have been written to: /content/build\n"
          ]
        }
      ]
    },
    {
      "cell_type": "code",
      "source": [
        "!make"
      ],
      "metadata": {
        "colab": {
          "base_uri": "https://localhost:8080/"
        },
        "id": "l-EEN2EBS2Lg",
        "outputId": "80919466-2dfb-4714-bc00-3c39fc474d32"
      },
      "execution_count": null,
      "outputs": [
        {
          "output_type": "stream",
          "name": "stdout",
          "text": [
            "[ 50%] \u001b[32mBuilding CXX object CMakeFiles/stl_bindings.dir/archivo.cpp.o\u001b[0m\n",
            "[100%] \u001b[32m\u001b[1mLinking CXX shared module stl_bindings.so\u001b[0m\n",
            "[100%] Built target stl_bindings\n"
          ]
        }
      ]
    },
    {
      "cell_type": "code",
      "source": [
        "import sys\n",
        "sys.path.append('/content/build')\n",
        "\n",
        "import stl_bindings\n",
        "\n",
        "# Crear dos vectores para sumarlos\n",
        "\n",
        "a = [1,2,3]\n",
        "b = [2,3,4]\n",
        "\n",
        "resultado = stl_bindings.sum_vectors(a,b)\n",
        "print(\"la suma de los vectores es \", resultado)"
      ],
      "metadata": {
        "colab": {
          "base_uri": "https://localhost:8080/"
        },
        "id": "SCDrCPTkTLzx",
        "outputId": "c3b208d4-eb35-41e0-abea-3f6621c23ff5"
      },
      "execution_count": null,
      "outputs": [
        {
          "output_type": "stream",
          "name": "stdout",
          "text": [
            "la suma de los vectores es  [3, 5, 7]\n"
          ]
        }
      ]
    },
    {
      "cell_type": "code",
      "source": [
        "a = stl_bindings.saludo()\n",
        "print(a)"
      ],
      "metadata": {
        "colab": {
          "base_uri": "https://localhost:8080/",
          "height": 198
        },
        "id": "mklIJkM2TQpT",
        "outputId": "2bfd2a91-66cf-4eef-ddaf-e5979c9e1fab"
      },
      "execution_count": null,
      "outputs": [
        {
          "output_type": "error",
          "ename": "AttributeError",
          "evalue": "module 'stl_bindings' has no attribute 'saludo'",
          "traceback": [
            "\u001b[0;31m---------------------------------------------------------------------------\u001b[0m",
            "\u001b[0;31mAttributeError\u001b[0m                            Traceback (most recent call last)",
            "\u001b[0;32m<ipython-input-39-5e0303090cd7>\u001b[0m in \u001b[0;36m<cell line: 1>\u001b[0;34m()\u001b[0m\n\u001b[0;32m----> 1\u001b[0;31m \u001b[0ma\u001b[0m \u001b[0;34m=\u001b[0m \u001b[0mstl_bindings\u001b[0m\u001b[0;34m.\u001b[0m\u001b[0msaludo\u001b[0m\u001b[0;34m(\u001b[0m\u001b[0;34m)\u001b[0m\u001b[0;34m\u001b[0m\u001b[0;34m\u001b[0m\u001b[0m\n\u001b[0m\u001b[1;32m      2\u001b[0m \u001b[0mprint\u001b[0m\u001b[0;34m(\u001b[0m\u001b[0ma\u001b[0m\u001b[0;34m)\u001b[0m\u001b[0;34m\u001b[0m\u001b[0;34m\u001b[0m\u001b[0m\n",
            "\u001b[0;31mAttributeError\u001b[0m: module 'stl_bindings' has no attribute 'saludo'"
          ]
        }
      ]
    },
    {
      "cell_type": "code",
      "source": [],
      "metadata": {
        "id": "iFm5w93jTZLE"
      },
      "execution_count": null,
      "outputs": []
    }
  ]
}